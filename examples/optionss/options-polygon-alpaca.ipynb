{
 "cells": [
  {
   "cell_type": "markdown",
   "metadata": {},
   "source": [
    "<b>Note: This Jupyter Notebook is associated with the article [The Stock Market Under Trump: A Hypothesis Based on Former Republican Presidencies](https://alpaca.markets/learn/the-stock-market-under-trump-a-hypothesis-based-on-former-republican-presidencies).</b>"
   ]
  },
  {
   "cell_type": "markdown",
   "metadata": {
    "id": "ME4z8dPQ7Opj"
   },
   "source": [
    "# Step 1: Setting Up the Environment"
   ]
  },
  {
   "cell_type": "code",
   "execution_count": null,
   "metadata": {
    "colab": {
     "base_uri": "https://localhost:8080/"
    },
    "executionInfo": {
     "elapsed": 20880,
     "status": "ok",
     "timestamp": 1736812249422,
     "user": {
      "displayName": "Satoshi Ido",
      "userId": "17211183582370417193"
     },
     "user_tz": 360
    },
    "id": "IOOUegMdmENy",
    "outputId": "0dfce66d-b92a-43a4-9e86-af75f5a7b09c"
   },
   "outputs": [],
   "source": [
    "# Install or upgrade the package `polygon-api-client` and `plotly` and import them\n",
    "!python3 -m pip install --upgrade polygon-api-client\n",
    "!python3 -m pip install --upgrade plotly\n",
    "\n",
    "#import modules\n",
    "from polygon import RESTClient\n",
    "import datetime as dt\n",
    "import pandas as pd\n",
    "import numpy as np\n",
    "import plotly.graph_objects as go\n",
    "from plotly.offline import plot\n",
    "from datetime import datetime, timedelta\n",
    "\n",
    "# Create client and authenticate with Polygon.io\n",
    "# [Reference](https://github.com/polygon-io/client-python)\n",
    "# Add your key to Colab Secrets. Add your API key to the Colab Secrets manager to securely store it\n",
    "from google.colab import userdata\n",
    "polygonAPIkey = userdata.get('POLYGON_API_KEY')\n",
    "client = RESTClient(polygonAPIkey) # api_key is used\n",
    "\n",
    "def calculate_days_between(from_date, to_date):\n",
    "    from_date_obj = datetime.strptime(from_date, '%Y-%m-%d')\n",
    "    to_date_obj = datetime.strptime(to_date, '%Y-%m-%d')\n",
    "    return (to_date_obj - from_date_obj).days"
   ]
  },
  {
   "cell_type": "markdown",
   "metadata": {
    "id": "ej0sEGJqqebb"
   },
   "source": [
    "# Step 2: Historical Market Data Analysis with Polygon.io API"
   ]
  },
  {
   "cell_type": "code",
   "execution_count": null,
   "metadata": {
    "colab": {
     "base_uri": "https://localhost:8080/",
     "height": 542
    },
    "executionInfo": {
     "elapsed": 390,
     "status": "ok",
     "timestamp": 1736812449231,
     "user": {
      "displayName": "Satoshi Ido",
      "userId": "17211183582370417193"
     },
     "user_tz": 360
    },
    "id": "EfNISmhkmk_5",
    "outputId": "055c048a-e504-419b-f9ed-3f575f2b9c03"
   },
   "outputs": [],
   "source": [
    "# Daily bars of target stocks (one of LMT, RTX, NOC). The code below checks \"LMT\" stock.\n",
    "dataRequest = client.get_aggs(ticker=\"LMT\",\n",
    "                              multiplier=1,\n",
    "                              timespan='day',\n",
    "                              from_='2017-01-01',\n",
    "                              to='2021-01-31')\n",
    "\n",
    "# List of polygon agg objects to DataFrame\n",
    "priceData = pd.DataFrame(dataRequest)\n",
    "\n",
    "# Create Date column\n",
    "priceData['date'] = pd.to_datetime(priceData['timestamp'], unit='ms')\n",
    "\n",
    "priceData = priceData.set_index('date')\n",
    "\n",
    "# Generate plotly figure\n",
    "fig = go.Figure(data=[go.Candlestick(x=priceData.index,\n",
    "                open=priceData['open'],\n",
    "                high=priceData['high'],\n",
    "                low=priceData['low'],\n",
    "                close=priceData['close'])])\n",
    "\n",
    "# Open figure directly in the Colab notebook\n",
    "fig.show()"
   ]
  },
  {
   "cell_type": "code",
   "execution_count": null,
   "metadata": {
    "colab": {
     "base_uri": "https://localhost:8080/"
    },
    "executionInfo": {
     "elapsed": 677,
     "status": "ok",
     "timestamp": 1736797078997,
     "user": {
      "displayName": "Satoshi Ido",
      "userId": "17211183582370417193"
     },
     "user_tz": 360
    },
    "id": "dCSCx11JnvDh",
    "outputId": "b600b4e5-d545-49c7-89e1-0c5e65ecbff4"
   },
   "outputs": [],
   "source": [
    "# Fetch the stock data from the Polygon API\n",
    "def get_stock_data(underlying_symbol, from_date, to_date):\n",
    "    # Get daily bars for the underlying stock\n",
    "    req = client.get_aggs(ticker=underlying_symbol,\n",
    "                          multiplier=1,             # 1-day timespan\n",
    "                          timespan='day',\n",
    "                          from_=from_date,\n",
    "                          to=to_date)\n",
    "\n",
    "    # List of polygon agg objects to DataFrame\n",
    "    priceData = pd.DataFrame(req)\n",
    "    # Create Date column\n",
    "    priceData['date'] = pd.to_datetime(priceData['timestamp'], unit='ms')\n",
    "    priceData = priceData.set_index('date')\n",
    "\n",
    "    return priceData\n",
    "\n",
    "# Calculate True Range for the underlying stock in the last 90 days\n",
    "def calculate_true_range(data):\n",
    "    data['prev_close'] = data['close'].shift(1)  # Shift the closing price by 1 day\n",
    "    data['tr'] = np.maximum(\n",
    "        data['high'] - data['low'],\n",
    "        np.maximum(\n",
    "            abs(data['high'] - data['prev_close']),\n",
    "            abs(data['low'] - data['prev_close'])\n",
    "        )\n",
    "    )\n",
    "    return data\n",
    "\n",
    "# Calculate ATR for the underlying stock on the last 90 days\n",
    "def calculate_atr(data, period=14):\n",
    "    data['atr'] = data['tr'].rolling(window=period).mean()\n",
    "    return data\n",
    "\n",
    "# Calculate ATR for multiple stocks\n",
    "def get_atr_for_stocks(stock_symbols, period, from_date, to_date):\n",
    "    results = {}\n",
    "\n",
    "    for symbol in stock_symbols:\n",
    "        print(f\"Processing {symbol}...\")\n",
    "        data = get_stock_data(symbol, from_date, to_date)\n",
    "        data = calculate_true_range(data)\n",
    "        data = calculate_atr(data, period=period)\n",
    "        results[symbol] = data[['tr', 'atr']].dropna()  # Store TR and ATR data for each stock\n",
    "\n",
    "    return results\n",
    "\n",
    "# List of stock symbols\n",
    "stock_symbols = ['LMT', 'RTX', 'NOC']\n",
    "\n",
    "# Call the function for multiple stocks\n",
    "atr_results = get_atr_for_stocks(stock_symbols, period=14, from_date='2024-01-05', to_date='2024-12-31')\n",
    "\n",
    "# Display ATR results for each stock\n",
    "for symbol, result in atr_results.items():\n",
    "    # Calculate the mean ATR for the past days\n",
    "    atr_mean = result[\"atr\"].mean()\n",
    "    days = calculate_days_between('2024-01-01', '2024-12-31')\n",
    "    print(f\"\\nThe average ATR for {symbol} over the past {days} days is:\\n\")\n",
    "    print(atr_mean)"
   ]
  },
  {
   "cell_type": "markdown",
   "metadata": {
    "id": "m18Ui0aWqbnw"
   },
   "source": [
    "# Step 3: Sell Cash-Secured Puts (CSPs)"
   ]
  },
  {
   "cell_type": "code",
   "execution_count": null,
   "metadata": {
    "colab": {
     "base_uri": "https://localhost:8080/"
    },
    "executionInfo": {
     "elapsed": 5114,
     "status": "ok",
     "timestamp": 1736482602620,
     "user": {
      "displayName": "Satoshi Ido",
      "userId": "17211183582370417193"
     },
     "user_tz": -540
    },
    "id": "Y3m804WOqIvk",
    "outputId": "ae0e91d0-02fa-410a-abc6-f2eeceea411e"
   },
   "outputs": [],
   "source": [
    "# Install or upgrade the package `alpaca-py` and import it\n",
    "!python3 -m pip install --upgrade alpaca-py\n",
    "\n",
    "import alpaca\n",
    "from alpaca.trading.client import TradingClient\n",
    "from alpaca.trading.requests import GetOptionContractsRequest, MarketOrderRequest\n",
    "from alpaca.data.requests import OptionLatestQuoteRequest, OptionSnapshotRequest\n",
    "from alpaca.data.historical.option import OptionHistoricalDataClient\n",
    "from alpaca.data.historical.stock import StockHistoricalDataClient, StockLatestTradeRequest\n",
    "\n",
    "# API credentials for Alpaca\n",
    "# API_KEY = \"YOUR_ALPACA_API_KEY_FOR_PAPER_TRADING\"\n",
    "# API_SECRET = 'YOUR_ALPACA_API_SECRET_KEY_FOR_PAPER_TRADING'\n",
    "# Add your key to Colab Secrets. Add your API key to the Colab Secrets manager to securely store it\n",
    "from google.colab import userdata\n",
    "API_KEY = userdata.get('ALPACA_API_KEY')\n",
    "API_SECRET = userdata.get('ALPACA_SECRET_KEY')\n",
    "BASE_URL = None\n",
    "## We use paper environment for this example\n",
    "PAPER = True # Please do not modify this. This example is for paper trading only.\n",
    "\n",
    "trade_client = TradingClient(api_key=API_KEY, secret_key=API_SECRET, paper=PAPER, url_override=BASE_URL)\n",
    "stock_data_client = StockHistoricalDataClient(api_key=API_KEY, secret_key=API_SECRET)\n",
    "option_historical_data_client = OptionHistoricalDataClient(api_key=API_KEY, secret_key=API_SECRET, url_override=BASE_URL)\n",
    "\n",
    "# Set expiration range for options\n",
    "today = datetime.now().date()\n",
    "\n",
    "# Set the open interest volume threshold\n",
    "OI_THRESHOLD = 100\n",
    "\n",
    "# Buying power percentage to use for the trade\n",
    "BUY_POWER_LIMIT = 0.10\n",
    "\n",
    "# Check account buying power\n",
    "buying_power = float(trade_client.get_account().buying_power)\n",
    "\n",
    "# Calculate the limit amount of buying power to use for the trade\n",
    "buying_power_limit = buying_power * BUY_POWER_LIMIT\n",
    "\n",
    "# Define a 10% range around the underlying price\n",
    "STRIKE_RANGE = 0.1"
   ]
  },
  {
   "cell_type": "code",
   "execution_count": null,
   "metadata": {
    "colab": {
     "base_uri": "https://localhost:8080/"
    },
    "executionInfo": {
     "elapsed": 486,
     "status": "ok",
     "timestamp": 1736482617254,
     "user": {
      "displayName": "Satoshi Ido",
      "userId": "17211183582370417193"
     },
     "user_tz": -540
    },
    "id": "0rn8m6ny1-F6",
    "outputId": "352b88aa-6b40-494b-d3aa-4a84fb209837"
   },
   "outputs": [],
   "source": [
    "# Set the expiration date range for the options\n",
    "min_expiration = today + timedelta(days=7)\n",
    "max_expiration = today + timedelta(days=35)\n",
    "\n",
    "# Get the latest price of the underlying stock\n",
    "def get_underlying_price(symbol):\n",
    "    # Get the latest trade for the underlying stock\n",
    "    underlying_trade_request = StockLatestTradeRequest(symbol_or_symbols=symbol)\n",
    "    underlying_trade_response = stock_data_client.get_stock_latest_trade(underlying_trade_request)\n",
    "    return underlying_trade_response[symbol].price\n",
    "\n",
    "# Get the latest price of the underlying stock\n",
    "for symbol in stock_symbols:\n",
    "    # Get the latest price of the underlying stock\n",
    "    underlying_price = get_underlying_price(symbol)\n",
    "    print(f\"\\n{symbol} stock price: {underlying_price}\")"
   ]
  },
  {
   "cell_type": "code",
   "execution_count": null,
   "metadata": {
    "id": "Sh2Z0YhTs0HL"
   },
   "outputs": [],
   "source": [
    "# Check for put options\n",
    "def get_put_options(underlying_symbol, min_strike, max_strike, min_expiration, max_expiration):\n",
    "\n",
    "    # Fetch the options data to add to the portfolio\n",
    "    req = GetOptionContractsRequest(underlying_symbols=[underlying_symbol],\n",
    "                                    strike_price_gte=min_strike,\n",
    "                                    strike_price_lte=max_strike,\n",
    "                                    status=\"active\",\n",
    "                                    expiration_date_gte=min_expiration,\n",
    "                                    expiration_date_lte=max_expiration,\n",
    "                                    type=\"put\",\n",
    "                                    )\n",
    "\n",
    "    # Get put option chain of the underlying symbol\n",
    "    put_options = trade_client.get_option_contracts(req).option_contracts\n",
    "    return put_options"
   ]
  },
  {
   "cell_type": "code",
   "execution_count": null,
   "metadata": {
    "id": "bBMISbPOtDBC"
   },
   "outputs": [],
   "source": [
    "# Find the appropriate short put option to sell based on the delta, IV, and buying power limit\n",
    "def find_short_put_option(put_options, buying_power_limit):\n",
    "\n",
    "    short_put = None\n",
    "\n",
    "    for option_data in put_options:\n",
    "        try:\n",
    "            # Ensure open_interest is valid and open_interest_date exists\n",
    "            if option_data.open_interest is None or option_data.open_interest_date is None:\n",
    "                # Skip options with missing open interest or quote data\n",
    "                continue\n",
    "\n",
    "            # Check open interest meets the threshold\n",
    "            if float(option_data.open_interest) <= OI_THRESHOLD:\n",
    "                print(f\"Skipping option {option_data.symbol} due to lack of open interest. You may change the OI_THRESHOLD\")\n",
    "                continue\n",
    "\n",
    "            # Get the latest quote for the option price\n",
    "            option_symbol = option_data.symbol\n",
    "            option_quote_request = OptionLatestQuoteRequest(symbol_or_symbols=option_symbol)\n",
    "            option_quote = option_historical_data_client.get_option_latest_quote(option_quote_request)[option_symbol]\n",
    "\n",
    "            # Extract option details\n",
    "            option_price = (option_quote.bid_price + option_quote.ask_price) / 2\n",
    "            option_size = float(option_data.size)\n",
    "            strike_price = float(option_data.strike_price)\n",
    "\n",
    "            # Fetch delta for each option\n",
    "            # get option chain by underlying_symbol including IV, Greeks, and other information\n",
    "            req = OptionSnapshotRequest(\n",
    "                symbol_or_symbols = option_symbol\n",
    "                )\n",
    "            snapshot = option_historical_data_client.get_option_snapshot(req)\n",
    "            delta = snapshot[option_symbol].greeks.delta\n",
    "            iv = snapshot[option_symbol].implied_volatility\n",
    "            print(f\"delta is {delta} and IV is {iv}\")\n",
    "\n",
    "            # Check if delta is between -0.42 and -0.18, if IV is less than or equal to 60, and if the total contract exceeds the buying power limit\n",
    "            if delta is not None and delta >= -0.42 and delta <= -0.18 and iv <= 60 and strike_price * option_size < buying_power_limit:\n",
    "\n",
    "                # Create the appropriate short put option in the dictionary format\n",
    "                short_put = {\n",
    "                    'close_price': option_data.close_price,\n",
    "                    'close_price_date': option_data.close_price_date,\n",
    "                    'expiration_date': option_data.expiration_date,\n",
    "                    'id': option_data.id,\n",
    "                    'name': option_data.name,\n",
    "                    'open_interest': option_data.open_interest,\n",
    "                    'open_interest_date': option_data.open_interest_date,\n",
    "                    'root_symbol': option_data.root_symbol,\n",
    "                    'size': option_data.size,\n",
    "                    'status': option_data.status,\n",
    "                    'strike_price': option_data.strike_price,\n",
    "                    'style': option_data.style,\n",
    "                    'symbol': option_data.symbol,\n",
    "                    'tradable': option_data.tradable,\n",
    "                    'type': option_data.type,\n",
    "                    'underlying_asset_id': option_data.underlying_asset_id,\n",
    "                    'underlying_symbol': option_data.underlying_symbol,\n",
    "                    'initial_delta': delta,\n",
    "                    'initial_iv': iv,\n",
    "                    'initial_option_price': option_price,\n",
    "                }\n",
    "\n",
    "                print(f\"short_put is {short_put}\")\n",
    "            # If the short put is found, break the loop\n",
    "            if short_put:\n",
    "                break\n",
    "\n",
    "        except KeyError as e:\n",
    "            print(f\"Missing data for option {option_symbol}: {e}\")\n",
    "            continue\n",
    "\n",
    "    return short_put"
   ]
  },
  {
   "cell_type": "code",
   "execution_count": null,
   "metadata": {
    "id": "0UZES2Cr-B_3"
   },
   "outputs": [],
   "source": [
    "def execute_cash_secured_put(underlying_symbol, buying_power_limit, min_expiration, max_expiration):\n",
    "\n",
    "    # Get the latest price of the underlying stock\n",
    "    underlying_price = get_underlying_price(underlying_symbol)\n",
    "    # Set the minimum and maximum strike prices based on the underlying price\n",
    "    min_strike = str(underlying_price * (1 - STRIKE_RANGE))\n",
    "    max_strike = str(underlying_price) # In cash-secured put, we explore options whose strike price is below the underlying price\n",
    "\n",
    "    # Get put options\n",
    "    put_options = get_put_options(underlying_symbol, min_strike, max_strike, min_expiration, max_expiration)\n",
    "\n",
    "    if put_options:\n",
    "        # Get the latest price of the underlying stock\n",
    "        underlying_price = get_underlying_price(symbol=underlying_symbol)\n",
    "\n",
    "        # Find appropriate short put options\n",
    "        short_put = find_short_put_option(put_options, buying_power_limit)\n",
    "\n",
    "        # Proceed if short put options are found\n",
    "        if short_put:\n",
    "\n",
    "            # Place orders for the short put if credit received meets a threshold (e.g., minimum profit)\n",
    "            req = MarketOrderRequest(\n",
    "                symbol=short_put['symbol'],\n",
    "                qty=1,\n",
    "                side='sell',\n",
    "                type='market',\n",
    "                time_in_force='day'\n",
    "            )\n",
    "\n",
    "            trade_client.submit_order(req)\n",
    "\n",
    "            success_message = (f\"Placing Cash Secured Put on {underlying_symbol} successfully:\\n\"\n",
    "                               f\"Sell {short_put['initial_delta']} Delta Put: {short_put['symbol']} \"\n",
    "                               f\"(Strike: {short_put['strike_price']}, Premium to Receive: {short_put['initial_option_price']})\")\n",
    "            return success_message, short_put\n",
    "\n",
    "        else:\n",
    "            return \"Could not find suitable options which has delta between -20 and -40 and iv less than or equal to 60.\", None\n",
    "    else:\n",
    "        return \"No put options available for the underlying symbol.\", None"
   ]
  },
  {
   "cell_type": "code",
   "execution_count": null,
   "metadata": {
    "colab": {
     "base_uri": "https://localhost:8080/",
     "height": 436
    },
    "collapsed": true,
    "executionInfo": {
     "elapsed": 1039,
     "status": "error",
     "timestamp": 1736172921125,
     "user": {
      "displayName": "Satoshi Ido",
      "userId": "17211183582370417193"
     },
     "user_tz": -540
    },
    "id": "N4Wtc5xK7fOx",
    "outputId": "a62f279d-fd92-4250-855d-7359b2c0d209"
   },
   "outputs": [],
   "source": [
    "import concurrent.futures\n",
    "\n",
    "stock_symbols = ['XOM', 'PAA', 'HAL']\n",
    "\n",
    "# You can run the `find_short_put_option` function just to find the short put option.\n",
    "def process_stock(symbol):\n",
    "    # Get the latest price of the underlying stock\n",
    "    underlying_price = get_underlying_price(symbol)\n",
    "    min_strike = str(underlying_price * (1 - STRIKE_RANGE))\n",
    "    max_strike = str(underlying_price)\n",
    "    put_options = get_put_options(symbol, min_strike, max_strike, min_expiration, max_expiration)\n",
    "    return find_short_put_option(put_options, buying_power_limit)\n",
    "\n",
    "with concurrent.futures.ThreadPoolExecutor() as executor:\n",
    "    results = list(executor.map(process_stock, stock_symbols))\n",
    "\n",
    "print(results)"
   ]
  },
  {
   "cell_type": "code",
   "execution_count": null,
   "metadata": {
    "id": "RMUBzs55-Fss"
   },
   "outputs": [],
   "source": []
  }
 ],
 "metadata": {
  "colab": {
   "authorship_tag": "ABX9TyMu2c4Aj43a3f7qKmuqAv6a",
   "provenance": [
    {
     "file_id": "1iPOt2ZIFEIFbYKhCSXl3kKQ5eSETj5_O",
     "timestamp": 1736167879117
    }
   ]
  },
  "kernelspec": {
   "display_name": "Python 3",
   "name": "python3"
  },
  "language_info": {
   "name": "python"
  }
 },
 "nbformat": 4,
 "nbformat_minor": 0
}
