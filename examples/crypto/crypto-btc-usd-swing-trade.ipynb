{
 "cells": [
  {
   "cell_type": "markdown",
   "metadata": {},
   "source": [
    "<b>Note: This Jupyter Notebook is associated with the article [How to Trade BTC/USD on Alpaca and TradingView](https://alpaca.markets/learn/btc-usd-alpaca-tradingview).</b>"
   ]
  },
  {
   "cell_type": "markdown",
   "metadata": {},
   "source": [
    "[![Open In Colab](https://colab.research.google.com/assets/colab-badge.svg)](https://colab.research.google.com/github/alpacahq/alpaca-py/blob/master/examples/crypto/crypto-btc-usd-swing-trade.ipynb)"
   ]
  },
  {
   "cell_type": "markdown",
   "metadata": {},
   "source": [
    "# Step 1: Setting Up the Bitcoin Trading Environment"
   ]
  },
  {
   "cell_type": "code",
   "execution_count": null,
   "metadata": {},
   "outputs": [],
   "source": [
    "# Install or upgrade the package `alpaca-py` and import it\n",
    "# !python3 -m pip install --upgrade alpaca-py\n",
    "# Install or upgrade the package `pandas-ta`\n",
    "# !python3 -m pip install -U git+https://github.com/twopirllc/pandas-ta"
   ]
  },
  {
   "cell_type": "code",
   "execution_count": null,
   "metadata": {},
   "outputs": [],
   "source": [
    "# Import standard library modules\n",
    "from datetime import datetime, timedelta\n",
    "from zoneinfo import ZoneInfo\n",
    "\n",
    "# Import third-party modules\n",
    "import numpy as np\n",
    "import pandas as pd\n",
    "import pandas_ta as ta  # The installment of pandas-ta may be tricky. Please find the pypi page here (https://pypi.org/project/pandas-ta/)\n",
    "import matplotlib.pyplot as plt\n",
    "\n",
    "# Import Alpaca modules\n",
    "import alpaca\n",
    "from alpaca.data.historical.crypto import CryptoHistoricalDataClient\n",
    "from alpaca.data.requests import (\n",
    "    CryptoBarsRequest,\n",
    "    CryptoLatestQuoteRequest,\n",
    "    CryptoQuoteRequest,\n",
    "    CryptoTradesRequest,\n",
    ")\n",
    "from alpaca.data.timeframe import TimeFrame, TimeFrameUnit\n",
    "from alpaca.trading.client import TradingClient\n",
    "from alpaca.trading.enums import (\n",
    "    AssetClass,\n",
    "    AssetStatus,\n",
    "    OrderSide,\n",
    "    OrderType,\n",
    "    QueryOrderStatus,\n",
    "    TimeInForce,\n",
    ")\n",
    "from alpaca.trading.requests import LimitOrderRequest, MarketOrderRequest"
   ]
  },
  {
   "cell_type": "code",
   "execution_count": null,
   "metadata": {},
   "outputs": [],
   "source": [
    "# Please change the following to your own PAPER api key and secret\n",
    "# You can get them from https://alpaca.markets/\n",
    "\n",
    "API_KEY = \"<YOUR PAPER API KEY>\"\n",
    "API_SECRET = \"<YOUR PAPER API SECRET>\"\n",
    "\n",
    "#### We use paper environment for this example ####\n",
    "PAPER = True # Please do not modify this. This example is for paper trading only.\n",
    "####\n",
    "\n",
    "# Below are the variables for development this documents\n",
    "# Please do not change these variables\n",
    "trade_api_url = None\n",
    "trade_api_wss = None\n",
    "data_api_url = None\n",
    "stream_data_wss = None\n",
    "\n",
    "# setup trading clients\n",
    "trade_client = TradingClient(api_key=API_KEY, secret_key=API_SECRET, paper=PAPER, url_override=trade_api_url)\n",
    "# setup crypto historical data client\n",
    "crypto_historical_data_client = CryptoHistoricalDataClient(api_key=API_KEY, secret_key=API_SECRET)"
   ]
  },
  {
   "cell_type": "markdown",
   "metadata": {},
   "source": [
    "# Step 2: Executing Market Data Analysis"
   ]
  },
  {
   "cell_type": "code",
   "execution_count": null,
   "metadata": {},
   "outputs": [],
   "source": [
    "# we will place orders which Alapca trading platform supports\n",
    "# - order types for crypto: market, limit, stop_limit\n",
    "# - time_in_force for crypto: gtc, ioc.\n",
    "# please refer to the following documents for more details\n",
    "# ref. https://docs.alpaca.markets/docs/orders-at-alpaca\n",
    "# ref. https://docs.alpaca.markets/reference/postorder\n",
    "\n",
    "# we will place orders for symbol: BTC/USD in this example\n",
    "symbol = \"BTC/USD\""
   ]
  },
  {
   "cell_type": "code",
   "execution_count": null,
   "metadata": {},
   "outputs": [],
   "source": [
    "# Set the timezone\n",
    "timezone = ZoneInfo(\"America/New_York\")\n",
    "\n",
    "# Get current date in US/Eastern timezone\n",
    "today = datetime.now(timezone).date()\n",
    "\n",
    "# Define the start and end dates for the historical period\n",
    "start_date = today - timedelta(days=365 * 2)\n",
    "end_date = today - timedelta(days=1)\n",
    "\n",
    "# Create the request object\n",
    "req = CryptoBarsRequest(\n",
    "    symbol_or_symbols = [symbol],\n",
    "    timeframe=TimeFrame.Day,\n",
    "    start=start_date,\n",
    "    end_date=end_date,\n",
    ")\n",
    "\n",
    "bars_data = crypto_historical_data_client.get_crypto_bars(req).df.reset_index(level='symbol', drop=True)"
   ]
  },
  {
   "cell_type": "code",
   "execution_count": null,
   "metadata": {},
   "outputs": [],
   "source": [
    "# Create a copy of the dataframe to avoid modifying the original data.\n",
    "df = bars_data.copy() \n",
    "df.head()"
   ]
  },
  {
   "cell_type": "markdown",
   "metadata": {},
   "source": [
    "## Calculating EMA"
   ]
  },
  {
   "cell_type": "code",
   "execution_count": null,
   "metadata": {},
   "outputs": [],
   "source": [
    "# Define Exponential Moving Average (EMA) periods\n",
    "short_window = 12 # Common short-term period\n",
    "long_window = 26  # Common long-term period\n",
    "\n",
    "# Calculate EMA using pandas.ewm()\n",
    "# 'span' is related to the period N, often approximated as span = N for typical EMA calculations.\n",
    "# 'adjust=False' uses a standard recursive formula common in technical analysis.\n",
    "df[\"ema_short\"] = df[\"close\"].ewm(span=short_window, adjust=False).mean()\n",
    "df[\"ema_long\"] = df[\"close\"].ewm(span=long_window, adjust=False).mean()\n"
   ]
  },
  {
   "cell_type": "markdown",
   "metadata": {},
   "source": [
    "## Calculating SMA, ATR, and ADX"
   ]
  },
  {
   "cell_type": "code",
   "execution_count": null,
   "metadata": {},
   "outputs": [],
   "source": [
    "# Calculate Simple Moving Average (SMA) using rolling() with 50-day SMA\n",
    "sma_window = 50\n",
    "df[\"sma\"] = df[\"close\"].rolling(window=sma_window).mean()\n",
    "df[[\"close\", \"sma\"]].tail()"
   ]
  },
  {
   "cell_type": "code",
   "execution_count": null,
   "metadata": {},
   "outputs": [],
   "source": [
    "# Calculate Average True Range (ATR) - requires high, low, close columns\n",
    "# Default length is 14 periods\n",
    "df.ta.atr(length=14, append=True) # Appends 'ATR_14' column\n",
    "\n",
    "# Calculate Average Directional Index (ADX) - requires high, low, close\n",
    "# Default length is 14 periods\n",
    "# Note: ta.adx() returns ADX, Positive Directional Movement (DMP), and Negative Directional Movement (DMN)\n",
    "df.ta.adx(length=14, append=True) # Appends 'ADX_14', 'DMP_14', 'DMN_14' columns"
   ]
  },
  {
   "cell_type": "markdown",
   "metadata": {},
   "source": [
    "## Visualizing Indicators"
   ]
  },
  {
   "cell_type": "code",
   "execution_count": null,
   "metadata": {},
   "outputs": [],
   "source": [
    "if not df.empty and \"ema_short\" in df.columns and \"ema_long\" in df.columns:\n",
    "    plt.style.use(\"seaborn-v0_8-darkgrid\") # Use a visually appealing style\n",
    "    plt.figure(figsize=(14, 7))\n",
    "\n",
    "    plt.plot(df.index, df[\"close\"], label=\"Close Price\", color=\"blue\", alpha=0.7)\n",
    "    plt.plot(df.index, df[\"ema_short\"], label=f\"EMA ({short_window})\", color=\"orange\", linestyle=\"--\")\n",
    "    plt.plot(df.index, df[\"ema_long\"], label=f\"EMA ({long_window})\", color=\"purple\", linestyle=\":\")\n",
    "\n",
    "    # Optional: Add crossover points visually\n",
    "    buy_signals = df[df[\"buy_signal\"]] if \"buy_signal\" in df else pd.DataFrame()\n",
    "    sell_signals = df[df[\"sell_signal\"]] if \"sell_signal\" in df else pd.DataFrame()\n",
    "\n",
    "    if not buy_signals.empty:\n",
    "        plt.scatter(buy_signals.index, buy_signals[\"close\"], label=\"Buy Signal\", marker=\"^\", color=\"green\", s=100, zorder=5)\n",
    "    if not sell_signals.empty:\n",
    "        plt.scatter(sell_signals.index, sell_signals[\"close\"], label=\"Sell Signal\", marker=\"v\", color=\"red\", s=100, zorder=5)\n",
    "\n",
    "    plt.title(f'{symbol} Price and EMA Crossover Signals')\n",
    "    plt.xlabel(\"Date\")\n",
    "    plt.ylabel(\"Price\")\n",
    "    plt.legend()\n",
    "    plt.tight_layout() # Adjust layout to prevent labels overlapping\n",
    "    plt.show()\n",
    "else:\n",
    "    print(\"Cannot plot: DataFrame is empty or EMA columns are missing.\")"
   ]
  },
  {
   "cell_type": "markdown",
   "metadata": {},
   "source": [
    "# Step 3: Creating a Bitcoin Swing Trading Algorithm with EMAs"
   ]
  },
  {
   "cell_type": "code",
   "execution_count": null,
   "metadata": {},
   "outputs": [],
   "source": [
    "# Generate Buy Signal\n",
    "# Condition 1: Is the short EMA currently above the long EMA?\n",
    "currently_above = df[\"ema_short\"] > df[\"ema_long\"]\n",
    "# Condition 2: Was the short EMA below or equal to the long EMA on the previous bar?\n",
    "previously_below_or_equal = df[\"ema_short\"].shift(1) <= df[\"ema_long\"].shift(1)\n",
    "# Buy Signal: True only on the bar where the crossover *just* happened\n",
    "df[\"buy_signal\"] = currently_above & previously_below_or_equal\n",
    "\n",
    "# Generate Sell Signal\n",
    "# Condition 1: Is the short EMA currently below the long EMA?\n",
    "currently_below = df[\"ema_short\"] < df[\"ema_long\"]\n",
    "# Condition 2: Was the short EMA above or equal to the long EMA on the previous bar?\n",
    "previously_above_or_equal = df[\"ema_short\"].shift(1) >= df[\"ema_long\"].shift(1)\n",
    "# Sell Signal: True only on the bar where the crossover *just* happened\n",
    "df[\"sell_signal\"] = currently_below & previously_above_or_equal\n",
    "\n",
    "# Display rows where signals occurred\n",
    "print(\"\\nCrossover Signal Occurrences:\")\n",
    "signal_rows = df[df[\"buy_signal\"] | df[\"sell_signal\"]]\n",
    "if not signal_rows.empty:\n",
    "    print(signal_rows[[\"close\", \"ema_short\", \"ema_long\", \"buy_signal\", \"sell_signal\"]])\n",
    "else:\n",
    "    print(\"No crossover signals found in the data.\")\n"
   ]
  },
  {
   "cell_type": "code",
   "execution_count": null,
   "metadata": {},
   "outputs": [],
   "source": [
    "# Store the latest signal information for potential execution\n",
    "latest_data = df.iloc[-1]\n",
    "print(\"\\nLatest Data Row:\")\n",
    "latest_data[['close', 'ema_short', 'ema_long', 'buy_signal', 'sell_signal']]"
   ]
  },
  {
   "cell_type": "markdown",
   "metadata": {},
   "source": [
    "# Step 4: Purchasing BTC/USD using Python with Alpaca's Trading API"
   ]
  },
  {
   "cell_type": "markdown",
   "metadata": {},
   "source": [
    "## Submitting Simple Market Orders"
   ]
  },
  {
   "cell_type": "code",
   "execution_count": null,
   "metadata": {},
   "outputs": [],
   "source": [
    "# simple, market order, notional\n",
    "req = MarketOrderRequest(\n",
    "    symbol = symbol,\n",
    "    notional = 250,  # notional is specified in USD, here we specify $250\n",
    "    side = OrderSide.BUY,\n",
    "    type = OrderType.MARKET,\n",
    "    time_in_force = TimeInForce.GTC,\n",
    ")\n",
    "res = trade_client.submit_order(req)\n",
    "res"
   ]
  },
  {
   "cell_type": "markdown",
   "metadata": {},
   "source": [
    "## Submitting Limit Order Requests"
   ]
  },
  {
   "cell_type": "code",
   "execution_count": null,
   "metadata": {},
   "outputs": [],
   "source": [
    "# Function to get latest quotes by symbol\n",
    "def get_latest_quote(symbol):\n",
    "    req = CryptoLatestQuoteRequest(symbol_or_symbols = [symbol])\n",
    "    res = crypto_historical_data_client.get_crypto_latest_quote(req)\n",
    "    return res\n",
    "\n",
    "# Get latest quotes\n",
    "btc_quote = get_latest_quote(\"BTC/USD\")"
   ]
  },
  {
   "cell_type": "code",
   "execution_count": null,
   "metadata": {},
   "outputs": [],
   "source": [
    "# Get the estimated buying cost of BTC/USD with given qty\n",
    "def calc_cost(quote, qty):\n",
    "    # Calculate total cost of BTC/USD order and round to 4 decimal places\n",
    "    total_cost = round(qty * quote[symbol].ask_price, 4)\n",
    "    return total_cost"
   ]
  },
  {
   "cell_type": "code",
   "execution_count": null,
   "metadata": {},
   "outputs": [],
   "source": [
    "QTY = 0.003\n",
    "cost = calc_cost(btc_quote, qty=QTY)\n",
    "f\"The total cost of BTC/USD order for qtry={QTY} is ${cost}\""
   ]
  },
  {
   "cell_type": "code",
   "execution_count": null,
   "metadata": {},
   "outputs": [],
   "source": [
    "# Define a 6% range around the crypto price\n",
    "LIMIT_RANGE = 0.06\n",
    "\n",
    "# Calculate the limit price as 6% below the current ask price\n",
    "limit_price = btc_quote[symbol].ask_price * (1 - LIMIT_RANGE)\n",
    "f\"The limit price for BTC/USD 'BUY' order for qty={QTY} is ${limit_price}\""
   ]
  },
  {
   "cell_type": "code",
   "execution_count": null,
   "metadata": {},
   "outputs": [],
   "source": [
    "# simple, market order, notional\n",
    "req = LimitOrderRequest(\n",
    "    symbol=symbol,\n",
    "    qty=QTY,\n",
    "    limit_price = limit_price,\n",
    "    side=OrderSide.BUY,\n",
    "    type = OrderType.LIMIT,\n",
    "    time_in_force=TimeInForce.GTC, # TIF=DAY is not available\n",
    ")\n",
    "\n",
    "res = trade_client.submit_order(req)\n",
    "res"
   ]
  }
 ],
 "metadata": {
  "language_info": {
   "name": "python"
  }
 },
 "nbformat": 4,
 "nbformat_minor": 2
}
