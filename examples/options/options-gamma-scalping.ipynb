{
 "cells": [
  {
   "cell_type": "markdown",
   "metadata": {},
   "source": [
    "<b>Note: This Jupyter Notebook is associated with the article [Gamma Scalping: Building an Options Strategy with Python and Alpaca’s Trading API](https://alpaca.markets/learn/gamma-scalping).</b>"
   ]
  },
  {
   "cell_type": "code",
   "execution_count": null,
   "metadata": {},
   "outputs": [],
   "source": [
    "from datetime import datetime, timedelta\n",
    "import time\n",
    "import asyncio\n",
    "import pandas as pd\n",
    "import numpy as np\n",
    "from scipy.stats import norm\n",
    "from scipy.optimize import brentq\n",
    "import nest_asyncio\n",
    "\n",
    "from alpaca.data.historical.option import OptionHistoricalDataClient, OptionLatestQuoteRequest\n",
    "from alpaca.data.historical.stock import StockHistoricalDataClient, StockLatestTradeRequest\n",
    "from alpaca.trading.models import TradeUpdate\n",
    "from alpaca.trading.client import TradingClient\n",
    "from alpaca.trading.stream import TradingStream\n",
    "from alpaca.trading.requests import GetOptionContractsRequest, MarketOrderRequest\n",
    "from alpaca.trading.enums import AssetStatus, ContractType, AssetClass"
   ]
  },
  {
   "cell_type": "code",
   "execution_count": null,
   "metadata": {},
   "outputs": [],
   "source": [
    "# API_KEY = \"Alpaca's Trading API Key (Paper Account)\"\n",
    "# API_SECRET = \"Alpaca's Trading API Secret Key (Paper Account)\"\n",
    "\n",
    "# A safe approach to setting up API credentials for Alpaca (Assume you run this notebook in Google Colab)\n",
    "# Add your key to Colab Secrets. Add your API key to the Colab Secrets manager to securely store it\n",
    "from google.colab import userdata\n",
    "TRADE_API_KEY = userdata.get('ALPACA_API_KEY')\n",
    "TRADE_API_SECRET = userdata.get('ALPACA_SECRET_KEY')\n",
    "BASE_URL = None\n",
    "PAPER = True\n",
    "\n",
    "\n",
    "# Initialize Alpaca clients\n",
    "trading_client = TradingClient(api_key=TRADE_API_KEY, secret_key=TRADE_API_SECRET, paper=PAPER)\n",
    "trade_update_stream = TradingStream(api_key=TRADE_API_KEY, secret_key=TRADE_API_SECRET, paper=PAPER)\n",
    "stock_data_client = StockHistoricalDataClient(api_key=TRADE_API_KEY, secret_key=TRADE_API_SECRET)\n",
    "option_data_client = OptionHistoricalDataClient(api_key=TRADE_API_KEY, secret_key=TRADE_API_SECRET)\n",
    "\n",
    "# Apply nest_asyncio to allow running the event loop\n",
    "nest_asyncio.apply()"
   ]
  },
  {
   "cell_type": "code",
   "execution_count": null,
   "metadata": {},
   "outputs": [],
   "source": [
    "# Configuration\n",
    "underlying_symbol = \"JPM\"\n",
    "max_abs_notional_delta = 500\n",
    "risk_free_rate = 0.045\n",
    "positions = {}"
   ]
  },
  {
   "cell_type": "code",
   "execution_count": null,
   "metadata": {},
   "outputs": [],
   "source": [
    "# Liquidate exsiting positions\n",
    "print(f\"Liquidating pre-existing positions related to underlying {underlying_symbol}\")\n",
    "all_positions = trading_client.get_all_positions()"
   ]
  },
  {
   "cell_type": "code",
   "execution_count": null,
   "metadata": {},
   "outputs": [],
   "source": [
    "for p in all_positions:\n",
    "    if p.asset_class == AssetClass.US_OPTION:\n",
    "        option_contract = trading_client.get_option_contract(p.symbol)\n",
    "        if option_contract.underlying_symbol == underlying_symbol:\n",
    "            print(f\"Liquidating {p.qty} of {p.symbol}\")\n",
    "            trading_client.close_position(p.symbol)\n",
    "    elif p.asset_class == AssetClass.US_EQUITY:\n",
    "        if p.symbol == underlying_symbol:\n",
    "            print(f\"Liquidating {p.qty} of {p.symbol}\")\n",
    "            trading_client.close_position(p.symbol)"
   ]
  },
  {
   "cell_type": "code",
   "execution_count": null,
   "metadata": {},
   "outputs": [],
   "source": [
    "# Add underlying symbol to positions list\n",
    "print(f\"Adding {underlying_symbol} to position list\")\n",
    "positions[underlying_symbol] = {'asset_class': 'us_equity', 'position': 0, 'initial_position': 0}"
   ]
  },
  {
   "cell_type": "code",
   "execution_count": null,
   "metadata": {},
   "outputs": [],
   "source": [
    "# Set expiration range for options\n",
    "today = datetime.now().date()\n",
    "min_expiration = today + timedelta(days=14)\n",
    "max_expiration = today + timedelta(days=60)"
   ]
  },
  {
   "cell_type": "code",
   "execution_count": null,
   "metadata": {},
   "outputs": [],
   "source": [
    "# Get the latest price of the underlying stock\n",
    "def get_underlying_price(symbol):\n",
    "\n",
    "    underlying_trade_request = StockLatestTradeRequest(symbol_or_symbols=symbol)\n",
    "    underlying_trade_response = stock_data_client.get_stock_latest_trade(underlying_trade_request)\n",
    "    return underlying_trade_response[symbol].price\n",
    "\n",
    "underlying_price = get_underlying_price(underlying_symbol)\n",
    "min_strike = round(underlying_price * 1.01, 2)\n",
    "\n",
    "print(f\"{underlying_symbol} price: {underlying_price}\")\n",
    "print(f\"Min Expiration: {min_expiration}, Max Expiration: {max_expiration}, Min Strike: {min_strike}\")\n"
   ]
  },
  {
   "cell_type": "code",
   "execution_count": null,
   "metadata": {},
   "outputs": [],
   "source": [
    "# Search for option contracts to add to the portfolio\n",
    "req = GetOptionContractsRequest(\n",
    "    underlying_symbols=[underlying_symbol],\n",
    "    status=AssetStatus.ACTIVE,\n",
    "    expiration_date_gte=min_expiration,\n",
    "    expiration_date_lte=max_expiration,\n",
    "    root_symbol=underlying_symbol,\n",
    "    type=ContractType.CALL,\n",
    "    strike_price_gte=str(min_strike),\n",
    "    limit=5,\n",
    ")\n",
    "\n",
    "option_chain_list = trading_client.get_option_contracts(req).option_contracts"
   ]
  },
  {
   "cell_type": "code",
   "execution_count": null,
   "metadata": {},
   "outputs": [],
   "source": [
    "# Add the first 3 otions to the position list\n",
    "for option in option_chain_list[:3]:\n",
    "    symbol = option.symbol\n",
    "    print(f\"Adding {symbol} to position list\")\n",
    "    positions[symbol] = {\n",
    "        'asset_class': 'us_option',\n",
    "        'underlying_symbol': option.underlying_symbol,\n",
    "        'expiration_date': pd.Timestamp(option.expiration_date),\n",
    "        'strike_price': float(option.strike_price),\n",
    "        'type': option.type,\n",
    "        'size': float(option.size),\n",
    "        'position': 0.0,\n",
    "        'initial_position': 1.0\n",
    "    }"
   ]
  },
  {
   "cell_type": "code",
   "execution_count": null,
   "metadata": {},
   "outputs": [],
   "source": [
    "# Calculate implied volatility\n",
    "def calculate_implied_volatility(option_price, S, K, T, r, option_type):\n",
    "    def option_price_diff(sigma):\n",
    "        d1 = (np.log(S / K) + (r + 0.5 * sigma ** 2) * T) / (sigma * np.sqrt(T))\n",
    "        d2 = d1 - sigma * np.sqrt(T)\n",
    "        if option_type == 'call':\n",
    "            price = S * norm.cdf(d1) - K * np.exp(-r * T) * norm.cdf(d2)\n",
    "        elif option_type == 'put':\n",
    "            price = K * np.exp(-r * T) * norm.cdf(-d2) - S * norm.cdf(-d1)\n",
    "        return price - option_price\n",
    "    \n",
    "    return brentq(option_price_diff, 1e-6, 1)\n",
    "\n",
    "# Calculate option Greeks (Delta and Gamma)\n",
    "def calculate_greeks(option_price, strike_price, expiry, underlying_price, risk_free_rate, option_type):\n",
    "    T = (expiry - pd.Timestamp.now()).days / 365\n",
    "    implied_volatility = calculate_implied_volatility(option_price, underlying_price, strike_price, T, risk_free_rate, option_type)\n",
    "    d1 = (np.log(underlying_price / strike_price) + (risk_free_rate + 0.5 * implied_volatility ** 2) * T) / (implied_volatility * np.sqrt(T))\n",
    "    d2 = d1 - implied_volatility * np.sqrt(T)\n",
    "    delta = norm.cdf(d1) if option_type == 'call' else -norm.cdf(-d1)\n",
    "    gamma = norm.pdf(d1) / (underlying_price * implied_volatility * np.sqrt(T))\n",
    "    return delta, gamma\n",
    "\n",
    "# handle trade updates\n",
    "async def on_trade_updates(data: TradeUpdate):\n",
    "    symbol = data.order.symbol\n",
    "    if symbol in positions:\n",
    "        if data.event in ('fill', 'partial_fill'):\n",
    "            side = data.order.side\n",
    "            qty = data.order.qty\n",
    "            filled_avg_price = data.order.filled_avg_price\n",
    "            position_qty = data.position_qty\n",
    "            print(f\"{data.event} event: {side} {qty} {symbol} @ {filled_avg_price}\")\n",
    "            print(f\"underlying position from {positions[symbol]['position']} to {position_qty}\")\n",
    "            positions[symbol]['position'] = float(position_qty)\n",
    "\n",
    "trade_update_stream.subscribe_trade_updates(on_trade_updates)"
   ]
  },
  {
   "cell_type": "code",
   "execution_count": null,
   "metadata": {},
   "outputs": [],
   "source": [
    "# Execute initial trades\n",
    "async def initial_trades():\n",
    "    await asyncio.sleep(5)\n",
    "    print('executing initial option trades')\n",
    "    for symbol, pos in positions.items():\n",
    "        if pos['asset_class'] == 'us_option' and pos['initial_position'] != 0:\n",
    "            side = 'buy' if pos['initial_position'] > 0 else 'sell'\n",
    "            order_request = MarketOrderRequest(\n",
    "                symbol=symbol,\n",
    "                qty=abs(pos['initial_position']),\n",
    "                side=side,\n",
    "                type='market',\n",
    "                time_in_force='day'\n",
    "            )\n",
    "            print(f\"Submitting order to {side} {abs(pos['initial_position'])} contracts of {symbol} at market\")\n",
    "            trading_client.submit_order(order_request)"
   ]
  },
  {
   "cell_type": "code",
   "execution_count": null,
   "metadata": {},
   "outputs": [],
   "source": [
    "# maintain delta-neutral strategy\n",
    "def maintain_delta_neutral():\n",
    "    current_delta = 0.0\n",
    "    underlying_price = get_underlying_price(underlying_symbol)\n",
    "\n",
    "    print(f\"Current Price of {underlying_symbol} is {underlying_price}\")\n",
    "\n",
    "    for symbol, pos in positions.items():\n",
    "        if pos['asset_class'] == 'us_equity' and symbol == underlying_symbol:\n",
    "            current_delta += pos['position']\n",
    "        elif pos['asset_class'] == 'us_option' and pos['underlying_symbol'] == underlying_symbol:\n",
    "            option_quote_request = OptionLatestQuoteRequest(symbol_or_symbols=symbol)\n",
    "            option_quote = option_data_client.get_option_latest_quote(option_quote_request)[symbol]\n",
    "            option_quote_mid = (option_quote.bid_price + option_quote.ask_price) / 2\n",
    "\n",
    "            delta, gamma = calculate_greeks(\n",
    "                option_price=option_quote_mid,\n",
    "                strike_price=pos['strike_price'],\n",
    "                expiry=pos['expiration_date'],\n",
    "                underlying_price=underlying_price,\n",
    "                risk_free_rate=risk_free_rate,\n",
    "                option_type=pos['type']\n",
    "            )\n",
    "\n",
    "            current_delta += delta * pos['position'] * pos['size']\n",
    "        \n",
    "    adjust_delta(current_delta, underlying_price)\n",
    "\n",
    "def adjust_delta(current_delta, underlying_price):\n",
    "    if current_delta * underlying_price > max_abs_notional_delta:\n",
    "        side = 'sell'\n",
    "    elif current_delta * underlying_price < -max_abs_notional_delta:\n",
    "        side = 'buy'\n",
    "    else:\n",
    "        return\n",
    "    \n",
    "    qty = abs(round(current_delta, 0))\n",
    "    order_request = MarketOrderRequest(symbol=underlying_symbol, qty=qty, side=side, type='market', time_in_force='day')\n",
    "    print(f\"Submitting {side} order for {qty} shares of {underlying_symbol} at market\")\n",
    "    trading_client.submit_order(order_request)\n"
   ]
  },
  {
   "cell_type": "code",
   "execution_count": null,
   "metadata": {},
   "outputs": [],
   "source": [
    "# Gamma sclaping strategy\n",
    "async def gamma_scalp(initial_interval=30, interval=120):\n",
    "    await asyncio.sleep(initial_interval)\n",
    "    maintain_delta_neutral()\n",
    "    while True:\n",
    "        await asyncio.sleep(interval)\n",
    "        maintain_delta_neutral()"
   ]
  },
  {
   "cell_type": "code",
   "execution_count": null,
   "metadata": {},
   "outputs": [],
   "source": [
    "# Main event loop\n",
    "loop = asyncio.get_event_loop()\n",
    "loop.run_until_complete(asyncio.gather(\n",
    "    trade_update_stream._run_forever(),\n",
    "    initial_trades(),\n",
    "    gamma_scalp()\n",
    "))"
   ]
  }
 ],
 "metadata": {
  "kernelspec": {
   "display_name": "Python 3",
   "language": "python",
   "name": "python3"
  },
  "language_info": {
   "codemirror_mode": {
    "name": "ipython",
    "version": 3
   },
   "file_extension": ".py",
   "mimetype": "text/x-python",
   "name": "python",
   "nbconvert_exporter": "python",
   "pygments_lexer": "ipython3",
   "version": "3.9.6"
  }
 },
 "nbformat": 4,
 "nbformat_minor": 2
}
