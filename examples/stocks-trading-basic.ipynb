{
 "cells": [
  {
   "cell_type": "markdown",
   "metadata": {},
   "source": [
    "# Alpaca-py stock trading basic\n",
    "Notice: This notebook is moved [to stock-trading-basic.ipynb under stocks directory](https://github.com/alpacahq/alpaca-py/blob/master/examples/stocks/stocks-trading-basic.ipynb)\n",
    "\n",
    "Please update your bookmark/link to the new location. This redirect page will be removed after 2026-03-01."
   ]
  }
 ],
 "metadata": {
  "kernelspec": {
   "display_name": "alpaca-py",
   "language": "python",
   "name": "python3"
  },
  "language_info": {
   "codemirror_mode": {
    "name": "ipython",
    "version": 3
   },
   "file_extension": ".py",
   "mimetype": "text/x-python",
   "name": "python",
   "nbconvert_exporter": "python",
   "pygments_lexer": "ipython3",
   "version": "3.11.9"
  }
 },
 "nbformat": 4,
 "nbformat_minor": 2
}
