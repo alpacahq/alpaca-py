{
 "cells": [
  {
   "cell_type": "markdown",
   "id": "6edd49e212343722",
   "metadata": {},
   "source": [
    "# Alpaca-py trading multi-leg (mleg) options\n",
    "\n",
    "Notice: This notebook is moved [to options-trading-mleg.ipynb under options directory](https://github.com/alpacahq/alpaca-py/blob/master/examples/options/options-trading-mleg.ipynb)\n",
    "\n",
    "Please update your bookmark/link to the new location. This redirect page will be removed after 2026-03-01.\n"
   ]
  }
 ],
 "metadata": {
  "kernelspec": {
   "display_name": "Python 3",
   "language": "python",
   "name": "python3"
  },
  "language_info": {
   "codemirror_mode": {
    "name": "ipython",
    "version": 2
   },
   "file_extension": ".py",
   "mimetype": "text/x-python",
   "name": "python",
   "nbconvert_exporter": "python",
   "pygments_lexer": "ipython2",
   "version": "2.7.6"
  }
 },
 "nbformat": 4,
 "nbformat_minor": 5
}
