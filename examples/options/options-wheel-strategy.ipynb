{
 "cells": [
  {
   "cell_type": "markdown",
   "metadata": {},
   "source": [
    "<b>Note: This Jupyter Notebook is associated with the article [The Options Wheel Strategy Explained (and How to Implement Using Python and Alpaca's Trading API)](https://alpaca.markets/learn/options-wheel-strategy).</b>"
   ]
  },
  {
   "cell_type": "markdown",
   "metadata": {
    "id": "LgJZGOcaaXti"
   },
   "source": [
    "# Step 1 Environment Setup\n",
    "- Please use ``paper account``. Please ``DO NOT`` use this notebook with live account. In this notebook, we place orders for options as an example."
   ]
  },
  {
   "cell_type": "code",
   "execution_count": null,
   "metadata": {
    "colab": {
     "base_uri": "https://localhost:8080/"
    },
    "executionInfo": {
     "elapsed": 9876,
     "status": "ok",
     "timestamp": 1738080630560,
     "user": {
      "displayName": "Satoshi Ido",
      "userId": "17211183582370417193"
     },
     "user_tz": 360
    },
    "id": "24LYcvQcaVaf",
    "outputId": "ce789cfb-b26d-4f0e-b093-790acae72ae6"
   },
   "outputs": [],
   "source": [
    "# Install or upgrade the package `alpaca-py` and import it\n",
    "!python3 -m pip install --upgrade alpaca-py\n",
    "\n",
    "import pandas as pd\n",
    "import numpy as np\n",
    "from scipy.stats import norm\n",
    "import alpaca\n",
    "import time\n",
    "from scipy.optimize import brentq\n",
    "from datetime import datetime, timedelta\n",
    "from zoneinfo import ZoneInfo\n",
    "from alpaca.data.timeframe import TimeFrame, TimeFrameUnit\n",
    "\n",
    "\n",
    "from alpaca.trading.client import TradingClient\n",
    "from alpaca.data.historical.option import OptionHistoricalDataClient\n",
    "from alpaca.data.historical.stock import StockHistoricalDataClient, StockLatestTradeRequest\n",
    "from alpaca.data.requests import StockBarsRequest, OptionLatestQuoteRequest, OptionChainRequest\n",
    "from alpaca.trading.requests import GetOptionContractsRequest, MarketOrderRequest\n",
    "from alpaca.trading.enums import AssetStatus, ContractType"
   ]
  },
  {
   "cell_type": "code",
   "execution_count": null,
   "metadata": {
    "id": "VCaBElb43dti"
   },
   "outputs": [],
   "source": [
    "# API_KEY = \"Alpaca's Trading API Key (Paper Account)\"\n",
    "# API_SECRET = \"Alpaca's Trading API Secret Key (Paper Account)\"\n",
    "\n",
    "# A safe approach to setting up API credentials for Alpaca (Assume you run this notebook in Google Colab)\n",
    "# Add your key to Colab Secrets. Add your API key to the Colab Secrets manager to securely store it\n",
    "from google.colab import userdata\n",
    "API_KEY = userdata.get('ALPACA_API_KEY')\n",
    "API_SECRET = userdata.get('ALPACA_SECRET_KEY')\n",
    "BASE_URL = None\n",
    "## We use paper environment for this example\n",
    "PAPER = True # Please do not modify this. This example is for paper trading only.\n",
    "\n",
    "# Initialize Alpaca clients\n",
    "trade_client = TradingClient(api_key=API_KEY, secret_key=API_SECRET, paper=PAPER, url_override=BASE_URL)\n",
    "option_historical_data_client = OptionHistoricalDataClient(api_key=API_KEY, secret_key=API_SECRET, url_override=BASE_URL)\n",
    "stock_data_client = StockHistoricalDataClient(api_key=API_KEY, secret_key=API_SECRET)\n",
    "\n",
    "# Below are the variables for development this documents\n",
    "# Please do not change these variables\n",
    "trade_api_url = None\n",
    "trade_api_wss = None\n",
    "data_api_url = None\n",
    "option_stream_data_wss = None"
   ]
  },
  {
   "cell_type": "code",
   "execution_count": null,
   "metadata": {
    "colab": {
     "base_uri": "https://localhost:8080/"
    },
    "executionInfo": {
     "elapsed": 4,
     "status": "ok",
     "timestamp": 1738080630560,
     "user": {
      "displayName": "Satoshi Ido",
      "userId": "17211183582370417193"
     },
     "user_tz": 360
    },
    "id": "92wIIdu_4qGZ",
    "outputId": "d34036b8-4e13-4e1a-934b-91bc49a658de"
   },
   "outputs": [],
   "source": [
    "# Configuration\n",
    "underlying_symbol = 'WMT'\n",
    "\n",
    "# Set the timezone\n",
    "timezone = ZoneInfo(\"America/New_York\")\n",
    "\n",
    "# Get current date in US/Eastern timezone\n",
    "today = datetime.now(timezone).date()\n",
    "\n",
    "# Define a 5% range around the underlying price\n",
    "STRIKE_RANGE = 0.05\n",
    "\n",
    "# Buying power percentage to use for the trade\n",
    "BUY_POWER_LIMIT = 0.10\n",
    "\n",
    "# Risk free rate for the options greeks and IV calculations\n",
    "RISK_FREE_RATE = 0.01\n",
    "\n",
    "# Check account buying power\n",
    "buying_power = float(trade_client.get_account().buying_power)\n",
    "\n",
    "# Calculate the limit amount of buying power to use for the trade\n",
    "buying_power_limit = buying_power * BUY_POWER_LIMIT\n",
    "\n",
    "# Set the open interest volume threshold\n",
    "OI_THRESHOLD = 200\n",
    "\n",
    "# Set the expiration date range for the options\n",
    "min_expiration = today + timedelta(days=7)\n",
    "max_expiration = today + timedelta(days=35)\n",
    "\n",
    "# Get the latest price of the underlying stock\n",
    "def get_underlying_price(symbol):\n",
    "    # Get current date in US/Eastern timezone\n",
    "    today = datetime.now(timezone).date()\n",
    "    # Get the latest trade for the underlying stock\n",
    "    underlying_trade_request = StockLatestTradeRequest(symbol_or_symbols=symbol)\n",
    "    underlying_trade_response = stock_data_client.get_stock_latest_trade(underlying_trade_request)\n",
    "    return underlying_trade_response[symbol].price\n",
    "\n",
    "# Get the latest price of the underlying stock\n",
    "underlying_price = get_underlying_price(underlying_symbol)\n",
    "print(f\"{underlying_symbol} price: {underlying_price}\")\n",
    "\n",
    "# Set the minimum and maximum strike prices based on the underlying price\n",
    "min_strike = str(underlying_price * (1 - STRIKE_RANGE))\n",
    "max_strike = str(underlying_price * (1 + STRIKE_RANGE))\n",
    "\n",
    "# Display the values\n",
    "print(f\"Underlying Symbol: {underlying_symbol}\")\n",
    "print(f\"Strike Range: {STRIKE_RANGE}\")\n",
    "print(f\"Buying Power Limit Percentage: {BUY_POWER_LIMIT}\")\n",
    "print(f\"Risk Free Rate: {RISK_FREE_RATE}\")\n",
    "print(f\"Account Buying Power: {buying_power}\")\n",
    "print(f\"Buying Power Limit: {buying_power_limit}\")\n",
    "print(f\"Open Interest Threshold: {OI_THRESHOLD}\")\n",
    "print(f\"Minimum Expiration Date: {min_expiration}\")\n",
    "print(f\"Maximum Expiration Date: {max_expiration}\")\n",
    "print(f\"Minimum Strike Price: {min_strike}\")\n",
    "print(f\"Maximum Strike Price: {max_strike}\")"
   ]
  },
  {
   "cell_type": "markdown",
   "metadata": {
    "id": "E34p7pAH_RC3"
   },
   "source": [
    "## Calculate Implied Volatility and Option Greek (delta)"
   ]
  },
  {
   "cell_type": "code",
   "execution_count": null,
   "metadata": {
    "id": "_0QCHabn2eLW"
   },
   "outputs": [],
   "source": [
    "# Calculate implied volatility\n",
    "def calculate_implied_volatility(option_price, S, K, T, r, option_type):\n",
    "\n",
    "    # Define a reasonable range for sigma\n",
    "    sigma_lower = 1e-6\n",
    "    sigma_upper = 5.0  # Adjust upper limit if necessary\n",
    "\n",
    "    # Check if the option is out-of-the-money and price is close to zero\n",
    "    intrinsic_value = max(0, (S - K) if option_type == 'call' else (K - S))\n",
    "    if option_price <= intrinsic_value + 1e-6:\n",
    "\n",
    "        # print(\"Option price is close to intrinsic value; implied volatility is near zero.\") # Uncomment for checking the status\n",
    "        return 0.0\n",
    "\n",
    "    # Define the function to find the root\n",
    "    def option_price_diff(sigma):\n",
    "        d1 = (np.log(S / K) + (r + 0.5 * sigma ** 2) * T) / (sigma * np.sqrt(T))\n",
    "        d2 = d1 - sigma * np.sqrt(T)\n",
    "        if option_type == 'call':\n",
    "            price = S * norm.cdf(d1) - K * np.exp(-r * T) * norm.cdf(d2)\n",
    "        elif option_type == 'put':\n",
    "            price = K * np.exp(-r * T) * norm.cdf(-d2) - S * norm.cdf(-d1)\n",
    "        return price - option_price\n",
    "\n",
    "    try:\n",
    "        return brentq(option_price_diff, sigma_lower, sigma_upper)\n",
    "    except ValueError as e:\n",
    "        print(f\"Failed to find implied volatility: {e}\")\n",
    "        return None\n",
    "\n",
    "# Calculate option Delta\n",
    "def calculate_delta(option_price, strike_price, expiry, underlying_price, risk_free_rate, option_type):\n",
    "    T = (expiry - pd.Timestamp.now()).days / 365\n",
    "    T = max(T, 1e-6)  # Set minimum T to avoid zero\n",
    "\n",
    "    if T == 1e-6:\n",
    "        print(\"Option has expired or is expiring now; setting delta based on intrinsic value.\")\n",
    "        if option_type == 'put':\n",
    "            return -1.0 if underlying_price < strike_price else 0.0\n",
    "        else:\n",
    "            return 1.0 if underlying_price > strike_price else 0.0\n",
    "\n",
    "    implied_volatility = calculate_implied_volatility(option_price, underlying_price, strike_price, T, risk_free_rate, option_type)\n",
    "    print(f\"implied volatility is {implied_volatility}\")\n",
    "    if implied_volatility is None or implied_volatility == 0.0:\n",
    "        print(\"Implied volatility could not be determined, skipping delta calculation.\")\n",
    "        return None\n",
    "\n",
    "    d1 = (np.log(underlying_price / strike_price) + (risk_free_rate + 0.5 * implied_volatility ** 2) * T) / (implied_volatility * np.sqrt(T))\n",
    "    delta = norm.cdf(d1) if option_type == 'call' else -norm.cdf(-d1)\n",
    "    return delta"
   ]
  },
  {
   "cell_type": "markdown",
   "metadata": {},
   "source": [
    "# Step 1: Analyze the Underlying Asset"
   ]
  },
  {
   "cell_type": "markdown",
   "metadata": {
    "id": "h4Aa0SZ2_MKZ"
   },
   "source": [
    "## Calculate ATR for the underlying stock"
   ]
  },
  {
   "cell_type": "code",
   "execution_count": null,
   "metadata": {
    "colab": {
     "base_uri": "https://localhost:8080/"
    },
    "executionInfo": {
     "elapsed": 165,
     "status": "ok",
     "timestamp": 1733516929291,
     "user": {
      "displayName": "Satoshi Ido",
      "userId": "17211183582370417193"
     },
     "user_tz": 360
    },
    "id": "fjb1jCGsaZJl",
    "outputId": "c66e559d-56f1-48d2-c1cc-b7e8014983bd"
   },
   "outputs": [],
   "source": [
    "# Get the historical data for the underlying stock by symbol\n",
    "# ref. https://docs.alpaca.markets/reference/stockbars-1\n",
    "def get_stock_data(underlying_symbol, stock_data_client, days=90):\n",
    "    now = datetime.now(ZoneInfo(\"America/New_York\"))\n",
    "    req = StockBarsRequest(\n",
    "        symbol_or_symbols=[underlying_symbol],\n",
    "        timeframe=TimeFrame(amount=1, unit=TimeFrameUnit.Day),     # specify timeframe\n",
    "        start=now - timedelta(days=days),                          # specify start datetime, default=the beginning of the current day.\n",
    "    )\n",
    "    return stock_data_client.get_stock_bars(req).df\n",
    "\n",
    "# Calculate True Range for the underlying stock in the last 90 days\n",
    "def calculate_true_range(data):\n",
    "    data['prev_close'] = data['close'].shift(1)  # Shift the closing price by 1 day\n",
    "    data['tr'] = np.maximum(\n",
    "        data['high'] - data['low'],\n",
    "        np.maximum(\n",
    "            abs(data['high'] - data['prev_close']),\n",
    "            abs(data['low'] - data['prev_close'])\n",
    "        )\n",
    "    )\n",
    "    return data\n",
    "\n",
    "# Calculate ATR for the underlying stock on the last 90 days\n",
    "def calculate_atr(data, period=14):\n",
    "    data['atr'] = data['tr'].rolling(window=period).mean()\n",
    "    return data\n",
    "\n",
    "\n",
    "def get_atr_for_stock(underlying_symbol, period=14):\n",
    "    data = get_stock_data(underlying_symbol, stock_data_client, days=90)\n",
    "    data = calculate_true_range(data)\n",
    "    data = calculate_atr(data, period=period)\n",
    "    return data[['tr', 'atr']].dropna()  # Return only TR and ATR columns\n",
    "\n",
    "# Calculate 14-day Average True Ranges (ATRs) over 90 days\n",
    "results = get_atr_for_stock(underlying_symbol=underlying_symbol, period=14)\n",
    "atr_mean_90 = results[\"atr\"].mean()\n",
    "print(f\"14-day ATR over 90 days is: {atr_mean_90}\")"
   ]
  },
  {
   "cell_type": "markdown",
   "metadata": {
    "id": "E5y-9ECl4vRZ"
   },
   "source": [
    "# Step 2: Sell Cash-Secured Puts (CSPs)"
   ]
  },
  {
   "cell_type": "code",
   "execution_count": null,
   "metadata": {
    "id": "JzLKlDHp4lqg"
   },
   "outputs": [],
   "source": [
    "# Check for put options\n",
    "def get_put_options(underlying_symbol, min_strike, max_strike, min_expiration, max_expiration):\n",
    "\n",
    "    # Fetch the options data to add to the portfolio\n",
    "    req = GetOptionContractsRequest(underlying_symbols=[underlying_symbol],\n",
    "                                    strike_price_gte=min_strike,\n",
    "                                    strike_price_lte=max_strike,\n",
    "                                    status=AssetStatus.ACTIVE,\n",
    "                                    expiration_date_gte=min_expiration,\n",
    "                                    expiration_date_lte=max_expiration,\n",
    "                                    root_symbol=underlying_symbol,\n",
    "                                    type=ContractType.PUT,\n",
    "                                    )\n",
    "\n",
    "    # Get put option chain of the underlying symbol\n",
    "    put_options = trade_client.get_option_contracts(req).option_contracts\n",
    "    return put_options"
   ]
  },
  {
   "cell_type": "code",
   "execution_count": null,
   "metadata": {
    "colab": {
     "base_uri": "https://localhost:8080/"
    },
    "executionInfo": {
     "elapsed": 262,
     "status": "ok",
     "timestamp": 1738080735630,
     "user": {
      "displayName": "Satoshi Ido",
      "userId": "17211183582370417193"
     },
     "user_tz": 360
    },
    "id": "AjlN0bezrf1W",
    "outputId": "7628313e-0271-48a6-de63-55bee32c2312"
   },
   "outputs": [],
   "source": [
    "get_put_options(underlying_symbol, min_strike, max_strike, min_expiration, max_expiration)"
   ]
  },
  {
   "cell_type": "code",
   "execution_count": null,
   "metadata": {
    "id": "n9ldTVn9B8lD"
   },
   "outputs": [],
   "source": [
    "# Find the appropriate short put option to sell based on the delta and buying power limit\n",
    "def find_short_put_option(put_options, underlying_price, risk_free_rate, buying_power_limit):\n",
    "\n",
    "    short_put = None\n",
    "\n",
    "    for option_data in put_options:\n",
    "        try:\n",
    "            # Ensure open_interest is valid and open_interest_date exists\n",
    "            if option_data.open_interest is None or option_data.open_interest_date is None:\n",
    "                # Skip options with missing open interest or quote data\n",
    "                continue\n",
    "\n",
    "            # Check open interest meets the threshold\n",
    "            if float(option_data.open_interest) <= OI_THRESHOLD:\n",
    "                print(f\"Skipping option {option_data.symbol} due to lack of open interest. You may change the OI_THRESHOLD\") # Uncomment for checking the status\n",
    "                continue\n",
    "\n",
    "            # Get the latest quote for the option price\n",
    "            option_symbol = option_data.symbol\n",
    "            option_quote_request = OptionLatestQuoteRequest(symbol_or_symbols=option_symbol)\n",
    "            option_quote = option_historical_data_client.get_option_latest_quote(option_quote_request)[option_symbol]\n",
    "\n",
    "            # Extract option details\n",
    "            option_price = (option_quote.bid_price + option_quote.ask_price) / 2\n",
    "            option_size = float(option_data.size)\n",
    "            strike_price = float(option_data.strike_price)\n",
    "            expiry = pd.Timestamp(option_data.expiration_date)\n",
    "\n",
    "            print(f\"option_symbol is {option_symbol}\")\n",
    "            print(f\"option_price is {option_price}\")\n",
    "            print(f\"strike price is {strike_price}\")\n",
    "\n",
    "            # Calculate delta for each option\n",
    "            delta = calculate_delta(\n",
    "                option_price=option_price,\n",
    "                strike_price=strike_price,\n",
    "                expiry=expiry,\n",
    "                underlying_price=underlying_price,\n",
    "                risk_free_rate=risk_free_rate,\n",
    "                option_type='put'\n",
    "            )\n",
    "            print(f\"delta is {delta}\")\n",
    "\n",
    "            # Check if delta is between -0.42 and -0.18 and if the total contract exceeds the buying power limit\n",
    "            if delta is not None and delta >= -0.42 and delta <= -0.18 and strike_price * option_size < buying_power_limit:\n",
    "\n",
    "                # Create the appropriate short put option in the dictionary format\n",
    "                short_put = {\n",
    "                    'close_price': option_data.close_price,\n",
    "                    'close_price_date': option_data.close_price_date,\n",
    "                    'expiration_date': option_data.expiration_date,\n",
    "                    'id': option_data.id,\n",
    "                    'name': option_data.name,\n",
    "                    'open_interest': option_data.open_interest,\n",
    "                    'open_interest_date': option_data.open_interest_date,\n",
    "                    'root_symbol': option_data.root_symbol,\n",
    "                    'size': option_data.size,\n",
    "                    'status': option_data.status,\n",
    "                    'strike_price': option_data.strike_price,\n",
    "                    'style': option_data.style,\n",
    "                    'symbol': option_data.symbol,\n",
    "                    'tradable': option_data.tradable,\n",
    "                    'type': option_data.type,\n",
    "                    'underlying_asset_id': option_data.underlying_asset_id,\n",
    "                    'underlying_symbol': option_data.underlying_symbol,\n",
    "                    'initial_delta': delta,\n",
    "                    'initial_option_price': option_price,\n",
    "                }\n",
    "\n",
    "                print(f\"short_put is {short_put}\")\n",
    "            # If the short put is found, break the loop\n",
    "            if short_put:\n",
    "                break\n",
    "\n",
    "        except KeyError as e:\n",
    "            print(f\"Missing data for option {option_symbol}: {e}\")\n",
    "            continue\n",
    "\n",
    "    return short_put"
   ]
  },
  {
   "cell_type": "code",
   "execution_count": null,
   "metadata": {
    "id": "klrmvxMjB-JI"
   },
   "outputs": [],
   "source": [
    "def execute_cash_secured_put(underlying_symbol, risk_free_rate, buying_power_limit, min_strike, max_strike, min_expiration, max_expiration):\n",
    "    # Get put options\n",
    "    put_options = get_put_options(underlying_symbol, min_strike, max_strike, min_expiration, max_expiration)\n",
    "\n",
    "    if put_options:\n",
    "        # Get the latest price of the underlying stock\n",
    "        underlying_price = get_underlying_price(symbol=underlying_symbol)\n",
    "\n",
    "        # Find appropriate short put options\n",
    "        short_put = find_short_put_option(put_options, underlying_price, risk_free_rate, buying_power_limit)\n",
    "\n",
    "        # Proceed if short put options are found\n",
    "        if short_put:\n",
    "\n",
    "            # Place orders for the strategy\n",
    "            # Sell the -20 ~ -40 delta put\n",
    "            req = MarketOrderRequest(\n",
    "                symbol=short_put['symbol'],\n",
    "                qty=1,\n",
    "                side='sell',\n",
    "                type='market',\n",
    "                time_in_force='day'\n",
    "            )\n",
    "\n",
    "            trade_client.submit_order(req)\n",
    "\n",
    "            success_message = (f\"Placing Cash Secured Put on {underlying_symbol} successfully:\\n\"\n",
    "                               f\"Sell {short_put['initial_delta']} Delta Put: {short_put['symbol']} \"\n",
    "                               f\"(Strike: {short_put['strike_price']}, Premium to Receive: {short_put['initial_option_price']})\")\n",
    "            return success_message, short_put\n",
    "\n",
    "        else:\n",
    "            return \"Could not find suitable options which has delta between -20 and -40.\", None\n",
    "    else:\n",
    "        return \"No put options available for the underlying symbol.\", None"
   ]
  },
  {
   "cell_type": "code",
   "execution_count": null,
   "metadata": {
    "colab": {
     "base_uri": "https://localhost:8080/"
    },
    "executionInfo": {
     "elapsed": 425,
     "status": "ok",
     "timestamp": 1733516929714,
     "user": {
      "displayName": "Satoshi Ido",
      "userId": "17211183582370417193"
     },
     "user_tz": 360
    },
    "id": "QbqRtB2aB_rV",
    "outputId": "5b399661-aedd-4d68-95a7-16157d246b4b"
   },
   "outputs": [],
   "source": [
    "# You can run the `find_short_put_option` function just to find the short put option.\n",
    "put_options = get_put_options(underlying_symbol, min_strike, max_strike, min_expiration, max_expiration)\n",
    "short_put_list = find_short_put_option(put_options, underlying_price, RISK_FREE_RATE, buying_power_limit)\n",
    "short_put_list"
   ]
  },
  {
   "cell_type": "code",
   "execution_count": null,
   "metadata": {
    "colab": {
     "base_uri": "https://localhost:8080/"
    },
    "executionInfo": {
     "elapsed": 403,
     "status": "ok",
     "timestamp": 1733516930115,
     "user": {
      "displayName": "Satoshi Ido",
      "userId": "17211183582370417193"
     },
     "user_tz": 360
    },
    "id": "GOb-2kRlCA1z",
    "outputId": "1547b457-8d10-4b60-9c14-5149541f91fd"
   },
   "outputs": [],
   "source": [
    "# Run the `execute_cash_secured_put` function to execute the cash secured put\n",
    "message, short_put = execute_cash_secured_put(underlying_symbol, RISK_FREE_RATE, buying_power_limit, min_strike, max_strike, min_expiration, max_expiration)\n",
    "message, short_put"
   ]
  },
  {
   "cell_type": "markdown",
   "metadata": {
    "id": "FyuRwnD8EuQo"
   },
   "source": [
    "# Step 3: Sell Covered Calls (CCs)"
   ]
  },
  {
   "cell_type": "markdown",
   "metadata": {
    "id": "VFLD5UBZE6_X"
   },
   "source": [
    "The upper Bollinger Band for the covered call strike price"
   ]
  },
  {
   "cell_type": "code",
   "execution_count": null,
   "metadata": {
    "colab": {
     "base_uri": "https://localhost:8080/"
    },
    "executionInfo": {
     "elapsed": 4,
     "status": "ok",
     "timestamp": 1733516930115,
     "user": {
      "displayName": "Satoshi Ido",
      "userId": "17211183582370417193"
     },
     "user_tz": 360
    },
    "id": "kPm8zuQeE6K_",
    "outputId": "4a8c808d-7cac-41fa-8bd2-9b13ae9155e3"
   },
   "outputs": [],
   "source": [
    "# setup stock historical data client\n",
    "now = datetime.now(ZoneInfo(\"America/New_York\"))\n",
    "req = StockBarsRequest(\n",
    "    symbol_or_symbols=[underlying_symbol],\n",
    "    timeframe=TimeFrame(amount=1, unit=TimeFrameUnit.Day),  # specify timeframe\n",
    "    start=today-timedelta(days=60),                       # specify start datetime, default=the beginning of the current day.\n",
    "    end=today,                                                  # specify end datetime, default=now\n",
    ")\n",
    "\n",
    "stock_data = stock_data_client.get_stock_bars(req).df\n",
    "\n",
    "\n",
    "# Define the window period for the Bollinger Bands\n",
    "window = 20\n",
    "\n",
    "# Calculate the Simple Moving Average (SMA)\n",
    "stock_data['SMA'] = stock_data['close'].rolling(window=window).mean()\n",
    "\n",
    "# Calculate the rolling standard deviation\n",
    "stock_data['StdDev'] = stock_data['close'].rolling(window=window).std()\n",
    "\n",
    "# Set the multiplier (commonly 2)\n",
    "multiplier = 2\n",
    "\n",
    "# Calculate the Upper Bollinger Band\n",
    "stock_data['Upper_Band'] = stock_data['SMA'] + (multiplier * stock_data['StdDev'])\n",
    "\n",
    "# Get the most recent Upper Band value\n",
    "latest_upper_bollinger_band = stock_data['Upper_Band'].iloc[-1]\n",
    "\n",
    "print(f\"Latest Upper Bollinger Band is: {latest_upper_bollinger_band}\")"
   ]
  },
  {
   "cell_type": "markdown",
   "metadata": {
    "id": "_0wXuGK3LEfX"
   },
   "source": [
    "Check sufficient shares for the covered call"
   ]
  },
  {
   "cell_type": "code",
   "execution_count": null,
   "metadata": {
    "colab": {
     "base_uri": "https://localhost:8080/"
    },
    "executionInfo": {
     "elapsed": 194,
     "status": "ok",
     "timestamp": 1733434436555,
     "user": {
      "displayName": "Satoshi Ido",
      "userId": "17211183582370417193"
     },
     "user_tz": 300
    },
    "id": "LH2_FieSLDoH",
    "outputId": "ccf9488e-0715-4637-9651-5fc2579317bf"
   },
   "outputs": [],
   "source": [
    "# Check if the portfolio has sufficient shares of the underlying stock/ETF to execute a covered call\n",
    "def has_sufficient_shares(symbol, required_qty=100):\n",
    "\n",
    "    # Fetch all positions\n",
    "    positions = trade_client.get_all_positions()\n",
    "\n",
    "    # Iterate through positions to check the stock symbol\n",
    "    for position in positions:\n",
    "        if position.symbol == symbol and position.asset_class == 'us_equity':\n",
    "            # Check if the available quantity is greater than or equal to the required quantity\n",
    "            if int(position.qty_available) >= required_qty:\n",
    "                print(f\"Sufficient shares available for {symbol}.\")\n",
    "                return True\n",
    "            else:\n",
    "                print(f\"Insufficient shares for {symbol}. Required: {required_qty}, Available: {position.qty_available}\")\n",
    "                return False\n",
    "\n",
    "    print(f\"No position found for the stock: {symbol}\")\n",
    "    return False\n",
    "\n",
    "# If the portfolio has sufficient shares, run the following codes to execute the covered call\n",
    "has_sufficient_shares(underlying_symbol)"
   ]
  },
  {
   "cell_type": "markdown",
   "metadata": {
    "id": "mdJKokMkLOo3"
   },
   "source": [
    "Check the call option chains with a strike price above the purchased put option's strike price and below the predefined maximum strike price."
   ]
  },
  {
   "cell_type": "code",
   "execution_count": null,
   "metadata": {
    "id": "i35i-O1FEtYV"
   },
   "outputs": [],
   "source": [
    "# Check for call options which are above the short_put strike price\n",
    "def get_call_options(underlying_symbol, option_data, max_strike, min_expiration, max_expiration):\n",
    "\n",
    "    # Check if the purchased option strike (=option_data['strike_price']) in the CSP is less than max_strike\n",
    "    if option_data['strike_price'] >= float(max_strike):\n",
    "        return f\"Option with strike price {option_data.strike_price} exceeds the max strike price {max_strike}.\"\n",
    "\n",
    "    # Fetch the options data to add to the portfolio\n",
    "    req = GetOptionContractsRequest(underlying_symbols=[underlying_symbol],\n",
    "                                    strike_price_gte=str(option_data['strike_price']),\n",
    "                                    strike_price_lte=max_strike,\n",
    "                                    status=AssetStatus.ACTIVE,\n",
    "                                    expiration_date_gte=min_expiration,\n",
    "                                    expiration_date_lte=max_expiration,\n",
    "                                    root_symbol=underlying_symbol,\n",
    "                                    type=ContractType.CALL,\n",
    "                                    )\n",
    "\n",
    "    # Get put option chain of the underlying symbol\n",
    "    call_options = trade_client.get_option_contracts(req).option_contracts\n",
    "    return call_options"
   ]
  },
  {
   "cell_type": "markdown",
   "metadata": {
    "id": "B6FtALUzM11z"
   },
   "source": [
    "Narrow down the `call_options` to the one that meet the predefined criteria and output the final call option chain."
   ]
  },
  {
   "cell_type": "code",
   "execution_count": null,
   "metadata": {
    "id": "-WAD6DzzFSk7"
   },
   "outputs": [],
   "source": [
    "# Find the appropriate short call option to sell based on the delta and buying power limit\n",
    "def find_short_call_option(call_options, underlying_price, risk_free_rate, latest_upper_boiler_band):\n",
    "\n",
    "    short_call = None\n",
    "\n",
    "    for option_data in call_options:\n",
    "        try:\n",
    "            # Ensure open_interest is valid and open_interest_date exists\n",
    "            if option_data.open_interest is None or option_data.open_interest_date is None:\n",
    "                # Skip options with missing open interest or quote data\n",
    "                continue\n",
    "\n",
    "            # Check open interest meets the threshold\n",
    "            if float(option_data.open_interest) <= OI_THRESHOLD:\n",
    "                # print(f\"Skipping option {option_name} due to missing trade or quote data.\") # Uncomment for checking the status\n",
    "                continue\n",
    "\n",
    "            # Get the latest quote for the option price\n",
    "            option_symbol = option_data.symbol\n",
    "            option_quote_request = OptionLatestQuoteRequest(symbol_or_symbols=option_symbol)\n",
    "            option_quote = option_historical_data_client.get_option_latest_quote(option_quote_request)[option_symbol]\n",
    "\n",
    "            # Extract option details\n",
    "            option_price = (option_quote.bid_price + option_quote.ask_price) / 2\n",
    "            option_size = float(option_data.size)\n",
    "            strike_price = float(option_data.strike_price)\n",
    "            expiry = pd.Timestamp(option_data.expiration_date)\n",
    "\n",
    "            print(f\"option_symbol is {option_symbol}\")\n",
    "            print(f\"option_price is {option_price}\")\n",
    "            print(f\"strike price is {strike_price}\")\n",
    "\n",
    "            # Calculate delta for each option\n",
    "            delta = calculate_delta(\n",
    "                option_price=option_price,\n",
    "                strike_price=strike_price,\n",
    "                expiry=expiry,\n",
    "                underlying_price=underlying_price,\n",
    "                risk_free_rate=risk_free_rate,\n",
    "                option_type='call'\n",
    "            )\n",
    "            print(f\"delta is {delta}\")\n",
    "\n",
    "            # Check if delta is between 0.42 and 0.18 and if the strike price is greater than the latest upper boiler band\n",
    "            if delta is not None and delta >= 0.18 and delta <= 0.42 and strike_price > latest_upper_boiler_band:\n",
    "\n",
    "                # Create the appropriate short put option in the dictionary format\n",
    "                short_call = {\n",
    "                    'close_price': option_data.close_price,\n",
    "                    'close_price_date': option_data.close_price_date,\n",
    "                    'expiration_date': option_data.expiration_date,\n",
    "                    'id': option_data.id,\n",
    "                    'name': option_data.name,\n",
    "                    'open_interest': option_data.open_interest,\n",
    "                    'open_interest_date': option_data.open_interest_date,\n",
    "                    'root_symbol': option_data.root_symbol,\n",
    "                    'size': option_data.size,\n",
    "                    'status': option_data.status,\n",
    "                    'strike_price': option_data.strike_price,\n",
    "                    'style': option_data.style,\n",
    "                    'symbol': option_data.symbol,\n",
    "                    'tradable': option_data.tradable,\n",
    "                    'type': option_data.type,\n",
    "                    'underlying_asset_id': option_data.underlying_asset_id,\n",
    "                    'underlying_symbol': option_data.underlying_symbol,\n",
    "                    'initial_delta': delta,\n",
    "                    'initial_option_price': option_price,\n",
    "                }\n",
    "\n",
    "                print(f\"short_call is {short_put}\")\n",
    "            # If the short put is found, break the loop\n",
    "            if short_call:\n",
    "                break\n",
    "\n",
    "        except KeyError as e:\n",
    "            print(f\"Missing data for option {option_symbol}: {e}\")\n",
    "            continue\n",
    "\n",
    "    return short_call"
   ]
  },
  {
   "cell_type": "markdown",
   "metadata": {
    "id": "4m5Egww9Mym2"
   },
   "source": [
    "Execute the covered call strategy based on the selected call option chain by the `find_short_call_option` function."
   ]
  },
  {
   "cell_type": "code",
   "execution_count": null,
   "metadata": {
    "id": "BfWENqCKFUe5"
   },
   "outputs": [],
   "source": [
    "def execute_covered_call(underlying_symbol, risk_free_rate, latest_upper_boiler_band, option_data, max_strike, min_expiration, max_expiration):\n",
    "\n",
    "    \"\"\"\n",
    "    Execute a covered call strategy if sufficient shares are available.\n",
    "    \"\"\"\n",
    "\n",
    "    required_qty = 100\n",
    "\n",
    "    if not has_sufficient_shares(underlying_symbol, required_qty):\n",
    "\n",
    "        return f\"Insufficient shares for {underlying_symbol} to execute a covered call.\", None\n",
    "\n",
    "    # Get call options\n",
    "    call_options = get_call_options(underlying_symbol, option_data, max_strike, min_expiration, max_expiration)\n",
    "\n",
    "    if call_options:\n",
    "        # Get the latest price of the underlying stock\n",
    "        underlying_price = get_underlying_price(symbol=underlying_symbol)\n",
    "\n",
    "        # Find appropriate short put options\n",
    "        short_call = find_short_call_option(call_options, underlying_price, risk_free_rate, latest_upper_boiler_band)\n",
    "\n",
    "        # Proceed if short call options are found\n",
    "        if short_call:\n",
    "\n",
    "            # Place orders for the covered call if delta is between 0.42 and 0.18 and if the strike price is greater than the latest upper boiler band\n",
    "            # Sell the 20 ~ 40 delta call\n",
    "            req = MarketOrderRequest(\n",
    "                symbol=short_call['symbol'],\n",
    "                qty=1,\n",
    "                side='sell',\n",
    "                type='market',\n",
    "                time_in_force='day'\n",
    "            )\n",
    "            trade_client.submit_order(req)\n",
    "\n",
    "            success_message = (f\"Placing Coverd Call on {underlying_symbol} successfully:\\n\"\n",
    "                               f\"Sell {short_call['delta']} Delta Put: {short_call['symbol']} \"\n",
    "                               f\"(Strike: {short_call['strike_price']}, Premium to Receive: {short_call['option_price']})\")\n",
    "            return success_message, short_call\n",
    "\n",
    "        else:\n",
    "            return \"Could not find suitable options which has delta between 20 and 40.\", None\n",
    "    else:\n",
    "        return \"No call options available for the underlying symbol.\", None"
   ]
  },
  {
   "cell_type": "code",
   "execution_count": null,
   "metadata": {
    "colab": {
     "base_uri": "https://localhost:8080/"
    },
    "executionInfo": {
     "elapsed": 76,
     "status": "ok",
     "timestamp": 1733434445088,
     "user": {
      "displayName": "Satoshi Ido",
      "userId": "17211183582370417193"
     },
     "user_tz": 300
    },
    "id": "ffY4U18DFWpT",
    "outputId": "6e5edee7-67af-463a-8b6d-2d7e692ad22b"
   },
   "outputs": [],
   "source": [
    "# Run the `execute_covered_call` function to execute the covered call\n",
    "message, short_call = execute_covered_call(underlying_symbol, RISK_FREE_RATE, latest_upper_bollinger_band, short_put, max_strike, min_expiration, max_expiration)\n",
    "message, short_call"
   ]
  },
  {
   "cell_type": "markdown",
   "metadata": {
    "id": "Na_D_3VJCqjX"
   },
   "source": [
    "# Step 4: Roll or Rinse the Options (Optional)\n",
    "\n",
    "roll_rinse_execution can be used for both cash secured puts and covered calls. By setting rolling=True, the function roll the strategy by buying either the short put or the short call and selling another option of the same underlying with a different strike and/or expiration date."
   ]
  },
  {
   "cell_type": "code",
   "execution_count": null,
   "metadata": {
    "id": "KRVf1wujCmwQ"
   },
   "outputs": [],
   "source": [
    "# Exit the market order\n",
    "def roll_rinse_execution(option_data, rolling=True):\n",
    "\n",
    "    # if rolling the option, close the short put and re-enter the market with a new cash secured put or close the long call and re-enter the market with a new long call\n",
    "    if rolling:\n",
    "        # Deternine if the option is a call or put\n",
    "        option_type = option_data['type'].value\n",
    "\n",
    "        # If the option is a put, close the short put by buying it back\n",
    "        if option_type == 'put':\n",
    "\n",
    "            # Close the short put by buying it back\n",
    "            req = MarketOrderRequest(\n",
    "                symbol=option_data['symbol'],\n",
    "                qty=1,\n",
    "                side='buy',\n",
    "                type='market',\n",
    "                time_in_force='day'\n",
    "            )\n",
    "\n",
    "            # Submit the order to close the short put\n",
    "            trade_client.submit_order(req)\n",
    "            print(f\"Closed short {option_type} option: {option_data['symbol']} bought\")\n",
    "\n",
    "            # Re-enter the market with a new cash secured put\n",
    "            rolling_message, short = execute_cash_secured_put(underlying_symbol, RISK_FREE_RATE, buying_power_limit)\n",
    "\n",
    "            if short:\n",
    "                # You can add the `rolling_message` from the `execute_cash_secured_put` function below to check if the short put or call is not sccessfully placed\n",
    "                return f\"Re-entering market with new cash secured put on {option_data['underlying_symbol']}\", short\n",
    "            else:\n",
    "                return f\"Failed to re-enter market with new cash secured put on {option_data['underlying_symbol']}\", None\n",
    "\n",
    "        # If the option is a call, close the short call by buying it back\n",
    "        else:\n",
    "            # Close the short call by buying it back\n",
    "            req = MarketOrderRequest(\n",
    "                symbol=option_data['symbol'],\n",
    "                qty=1,\n",
    "                side='buy',\n",
    "                type='market',\n",
    "                time_in_force='day'\n",
    "            )\n",
    "\n",
    "            # Submit the order to close the covered call (short call)\n",
    "            trade_client.submit_order(req)\n",
    "            print(f\"Closing short {option_type} option: {option_data['symbol']} sold\")\n",
    "\n",
    "            # Re-enter the market with a new covered call\n",
    "            rolling_message, short = execute_covered_call(underlying_symbol, RISK_FREE_RATE, buying_power_limit)\n",
    "\n",
    "            if short:\n",
    "                return f\"Re-entering market with new covered call on {option_data['underlying_symbol']}\", short\n",
    "            else:\n",
    "                return f\"Failed to re-enter market with new covered call on {option_data['underlying_symbol']}\", None\n",
    "\n",
    "    else:\n",
    "        # If the option is a put, close the short put by buying it back\n",
    "        if option_type == 'put':\n",
    "\n",
    "            # Close the short put by buying it back\n",
    "            req = MarketOrderRequest(\n",
    "                symbol=option_data['symbol'],\n",
    "                qty=1,\n",
    "                side='buy',\n",
    "                type='market',\n",
    "                time_in_force='day'\n",
    "            )\n",
    "            trade_client.submit_order(req)\n",
    "            return f\"Closed short {option_type} option: {option_data['symbol']} bought\", None\n",
    "\n",
    "         # If the option is a call, close the short call by buying it back\n",
    "        else:\n",
    "            # Close the short call by buying it back\n",
    "            req = MarketOrderRequest(\n",
    "                symbol=option_data['symbol'],\n",
    "                qty=1,\n",
    "                side='buy',\n",
    "                type='market',\n",
    "                time_in_force='day'\n",
    "            )\n",
    "\n",
    "            # Submit the order to close the covered call (short call)\n",
    "            trade_client.submit_order(req)\n",
    "            return f\"Closing short {option_type} option: {option_data['symbol']} sold\", None\n"
   ]
  },
  {
   "cell_type": "code",
   "execution_count": null,
   "metadata": {
    "id": "QmwW9ffJCudd"
   },
   "outputs": [],
   "source": [
    "# calculate the current delta of the option (rolling or rinsing)\n",
    "def roll_rinse_option(option_data, rolling=True):\n",
    "\n",
    "    # Get the latest quote for the option price\n",
    "    option_symbol = option_data[\"symbol\"]\n",
    "    option_quote_request = OptionLatestQuoteRequest(symbol_or_symbols=option_symbol)\n",
    "    option_quote = option_historical_data_client.get_option_latest_quote(option_quote_request)[option_symbol]\n",
    "\n",
    "    # Extract option details\n",
    "    current_option_price = (option_quote.bid_price + option_quote.ask_price) / 2\n",
    "    strike_price = float(option_data[\"strike_price\"])\n",
    "    expiry = pd.Timestamp(option_data[\"expiration_date\"])\n",
    "\n",
    "    print(f\"option_symbol is {option_symbol}\")\n",
    "    print(f\"current option_price is {current_option_price}\")\n",
    "    print(f\"current strike price is {strike_price}\")\n",
    "\n",
    "    # Deternine if the option is a call or put\n",
    "    option_type = option_data['type'].value\n",
    "    # If the option is a put, calculate the delta for the put option\n",
    "    if option_type == 'put':\n",
    "\n",
    "        # Calculate delta for each option\n",
    "        current_delta = calculate_delta(\n",
    "            option_price=current_option_price,\n",
    "            strike_price=strike_price,\n",
    "            expiry=expiry,\n",
    "            underlying_price=underlying_price,\n",
    "            risk_free_rate=RISK_FREE_RATE,\n",
    "            option_type='put'\n",
    "        )\n",
    "\n",
    "    # If the option is a call, calculate the delta for the call option\n",
    "    else:\n",
    "        current_delta = calculate_delta(\n",
    "            option_price=current_option_price,\n",
    "            strike_price=strike_price,\n",
    "            expiry=expiry,\n",
    "            underlying_price=underlying_price,\n",
    "            risk_free_rate=RISK_FREE_RATE,\n",
    "            option_type='call'\n",
    "        )\n",
    "\n",
    "    # Set target profit levels in two ways: 1) 50% of the initial credit received, 2) 2x the initial delta of the short put\n",
    "    target_profit_price = option_data['initial_option_price'] * 0.5  # 50% of credit received\n",
    "    initial_delta = option_data['initial_delta'] * 2  # Set target delta level at 2x the initial delta of the short put\n",
    "\n",
    "    # roll or rinse the option if the absoluete value of the current delta is greater than or equal to the initial delta\n",
    "    if abs(current_delta) >= abs(initial_delta) or current_option_price <= target_profit_price:\n",
    "\n",
    "        # Roll or rinse the option\n",
    "        rinsing_message, short = roll_rinse_execution(option_data, rolling=rolling)\n",
    "\n",
    "        # you can add the `rinsing_message` from the `roll_rinse_execution` function below to check if the short put or call is not sccessfully placed\n",
    "        return f\"Current delta {current_delta} exceeds twice the initial delta {initial_delta} or the option price is less than 50% of the initial credit received. Executing roll/rinse.\", short\n",
    "\n",
    "    else:\n",
    "        return f\"Current delta {current_delta} is less than twice the initial delta {initial_delta} and the option price is greater than 50% of the initial credit received. Holding the position.\", None\n"
   ]
  },
  {
   "cell_type": "markdown",
   "metadata": {},
   "source": [
    "## Roll or Rinse Positions"
   ]
  },
  {
   "cell_type": "code",
   "execution_count": null,
   "metadata": {
    "colab": {
     "base_uri": "https://localhost:8080/"
    },
    "executionInfo": {
     "elapsed": 84,
     "status": "ok",
     "timestamp": 1733434450648,
     "user": {
      "displayName": "Satoshi Ido",
      "userId": "17211183582370417193"
     },
     "user_tz": 300
    },
    "id": "br_pVpCDCwCT",
    "outputId": "3b07804b-e0b9-446c-cba9-95c8e686cce2"
   },
   "outputs": [],
   "source": [
    "message, short = roll_rinse_option(option_data=short_put, rolling=True)\n",
    "message, short"
   ]
  }
 ],
 "metadata": {
  "colab": {
   "authorship_tag": "ABX9TyM3MTIqEsUgeXncH+Vor1jV",
   "provenance": [
    {
     "file_id": "1mobNXvTgHBZTWhwmJ76vw-UmHE8nKMiv",
     "timestamp": 1734021447873
    }
   ]
  },
  "kernelspec": {
   "display_name": "Python 3",
   "name": "python3"
  },
  "language_info": {
   "name": "python"
  }
 },
 "nbformat": 4,
 "nbformat_minor": 0
}
