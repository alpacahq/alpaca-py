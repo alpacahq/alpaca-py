{
 "cells": [
  {
   "cell_type": "markdown",
   "metadata": {},
   "source": [
    "# Alpaca-py crypto trading basic"
   ]
  },
  {
   "cell_type": "markdown",
   "metadata": {},
   "source": [
    "[![Open In Colab](https://colab.research.google.com/assets/colab-badge.svg)](https://colab.research.google.com/github/alpacahq/alpaca-py/blob/master/examples/crypto-trading-basic.ipynb)"
   ]
  },
  {
   "cell_type": "markdown",
   "metadata": {},
   "source": [
    "- This notebook shows how to use alpaca-py with crypto trading API endpoints\n",
    "- Please use ``paper account``. Please ``DO NOT`` use this notebook with live account. In this notebook, we place orders for crypto as an example."
   ]
  },
  {
   "cell_type": "code",
   "execution_count": null,
   "metadata": {},
   "outputs": [],
   "source": [
    "# Please change the following to your own PAPER api key and secret\n",
    "# You can get them from https://alpaca.markets/\n",
    "\n",
    "api_key = \"<YOUR PAPER API KEY>\"\n",
    "secret_key = \"<YOUR PAPER API SECRET>\"\n",
    "\n",
    "#### We use paper environment for this example ####\n",
    "paper = True # Please do not modify this. This example is for paper trading only.\n",
    "####\n",
    "\n",
    "# Below are the variables for development this documents\n",
    "# Please do not change these variables\n",
    "trade_api_url = None\n",
    "trade_api_wss = None\n",
    "data_api_url = None\n",
    "stream_data_wss = None"
   ]
  },
  {
   "cell_type": "code",
   "execution_count": null,
   "metadata": {},
   "outputs": [],
   "source": [
    "# install alpaca-py\n",
    "! python3 -m pip install alpaca-py"
   ]
  },
  {
   "cell_type": "code",
   "execution_count": null,
   "metadata": {},
   "outputs": [],
   "source": [
    "import json\n",
    "from datetime import datetime, timedelta\n",
    "from zoneinfo import ZoneInfo\n",
    "\n",
    "import alpaca\n",
    "from alpaca.data.live.crypto import *\n",
    "from alpaca.data.historical.crypto import *\n",
    "from alpaca.data.requests import *\n",
    "from alpaca.data.timeframe import *\n",
    "from alpaca.trading.client import *\n",
    "from alpaca.trading.stream import *\n",
    "from alpaca.trading.requests import *\n",
    "from alpaca.trading.enums import *\n",
    "from alpaca.common.exceptions import APIError"
   ]
  },
  {
   "cell_type": "code",
   "execution_count": null,
   "metadata": {},
   "outputs": [],
   "source": [
    "# to run async code in jupyter notebook\n",
    "import nest_asyncio\n",
    "nest_asyncio.apply()"
   ]
  },
  {
   "cell_type": "code",
   "execution_count": null,
   "metadata": {},
   "outputs": [],
   "source": [
    "# check version of alpaca-py\n",
    "alpaca.__version__"
   ]
  },
  {
   "cell_type": "markdown",
   "metadata": {},
   "source": [
    "# Trading Client"
   ]
  },
  {
   "cell_type": "code",
   "execution_count": null,
   "metadata": {},
   "outputs": [],
   "source": [
    "# setup clients\n",
    "trade_client = TradingClient(api_key=api_key, secret_key=secret_key, paper=paper, url_override=trade_api_url)"
   ]
  },
  {
   "cell_type": "code",
   "execution_count": null,
   "metadata": {},
   "outputs": [],
   "source": [
    "# check trading account\n",
    "# You can check definition of each field in the following documents\n",
    "# ref. https://docs.alpaca.markets/docs/account-plans\n",
    "# ref. https://docs.alpaca.markets/reference/getaccount-1\n",
    "acct = trade_client.get_account()\n",
    "acct"
   ]
  },
  {
   "cell_type": "code",
   "execution_count": null,
   "metadata": {},
   "outputs": [],
   "source": [
    "# check account configuration\n",
    "# ref. https://docs.alpaca.markets/reference/getaccountconfig-1\n",
    "acct_config = trade_client.get_account_configurations()\n",
    "acct_config"
   ]
  },
  {
   "cell_type": "code",
   "execution_count": null,
   "metadata": {},
   "outputs": [],
   "source": [
    "# get list of crypto pairs\n",
    "# ref. https://docs.alpaca.markets/reference/get-v2-assets-1\n",
    "req = GetAssetsRequest(\n",
    "  asset_class=AssetClass.CRYPTO,\n",
    "  status=AssetStatus.ACTIVE\n",
    ")\n",
    "assets = trade_client.get_all_assets(req)\n",
    "assets[:2]"
   ]
  },
  {
   "cell_type": "markdown",
   "metadata": {},
   "source": [
    "### Orders"
   ]
  },
  {
   "cell_type": "code",
   "execution_count": null,
   "metadata": {},
   "outputs": [],
   "source": [
    "# we will place orders which Alapca trading platform supports\n",
    "# - order types for crypto: market, limit, stop_limit\n",
    "# - time_in_force for crypto: gtc, ioc.\n",
    "# please refer to the following documents for more details\n",
    "# ref. https://docs.alpaca.markets/docs/orders-at-alpaca\n",
    "# ref. https://docs.alpaca.markets/reference/postorder\n",
    "\n",
    "\n",
    "# we will place orders for symbol: BTC/USD in this example\n",
    "symbol = \"BTC/USD\""
   ]
  },
  {
   "cell_type": "code",
   "execution_count": null,
   "metadata": {},
   "outputs": [],
   "source": [
    "# simple, market order\n",
    "# you can specify:\n",
    "# or notional value (e.g. 100 USD) (which is in the next example)\n",
    "req = MarketOrderRequest(\n",
    "    symbol = symbol,\n",
    "    qty = 0.01,\n",
    "    side = OrderSide.BUY,\n",
    "    type = OrderType.MARKET,\n",
    "    time_in_force = TimeInForce.GTC,\n",
    ")\n",
    "res = trade_client.submit_order(req)\n",
    "res"
   ]
  },
  {
   "cell_type": "code",
   "execution_count": null,
   "metadata": {},
   "outputs": [],
   "source": [
    "# simple, market order, notional\n",
    "\n",
    "req = MarketOrderRequest(\n",
    "    symbol = symbol,\n",
    "    notional = 1.11,  # notional is specified in USD, here we specify $1.11\n",
    "    side = OrderSide.BUY,\n",
    "    type = OrderType.MARKET,\n",
    "    time_in_force = TimeInForce.GTC,\n",
    ")\n",
    "res = trade_client.submit_order(req)\n",
    "res"
   ]
  },
  {
   "cell_type": "code",
   "execution_count": null,
   "metadata": {},
   "outputs": [],
   "source": [
    "# simple, limit order\n",
    "req = LimitOrderRequest(\n",
    "    symbol = symbol,\n",
    "    qty = 0.01,\n",
    "    limit_price = 60000,\n",
    "    side = OrderSide.BUY,\n",
    "    type = OrderType.LIMIT,\n",
    "    time_in_force = TimeInForce.GTC,\n",
    ")\n",
    "res = trade_client.submit_order(req)\n",
    "res"
   ]
  },
  {
   "cell_type": "code",
   "execution_count": null,
   "metadata": {},
   "outputs": [],
   "source": [
    "# stop limit order\n",
    "req = StopLimitOrderRequest(\n",
    "                    symbol = symbol,\n",
    "                    qty = 0.01,\n",
    "                    side = OrderSide.BUY,\n",
    "                    time_in_force = TimeInForce.GTC,\n",
    "                    limit_price = 55000,\n",
    "                    stop_price = 60000\n",
    "                    )\n",
    "\n",
    "res = trade_client.submit_order(req)\n",
    "res"
   ]
  },
  {
   "cell_type": "code",
   "execution_count": null,
   "metadata": {},
   "outputs": [],
   "source": [
    "# get a list of orders including closed (e.g. filled) orders by specifying symbol\n",
    "req = GetOrdersRequest(\n",
    "    status = QueryOrderStatus.ALL,\n",
    "    symbols = [symbol]\n",
    ")\n",
    "orders = trade_client.get_orders(req)\n",
    "orders"
   ]
  },
 {
   "cell_type": "code",
   "execution_count": null,
   "metadata": {},
   "outputs": [],
   "source": [
    "# see all open orders\n",
    "req = GetOrdersRequest(\n",
    "    status = QueryOrderStatus.OPEN,\n",
    "    symbols = [symbol]\n",
    ")\n",
    "open_orders = trade_client.get_orders(req)\n",
    "open_orders"
   ]
  },
  {
   "cell_type": "code",
   "execution_count": null,
   "metadata": {},
   "outputs": [],
   "source": [
    "# cancel all open orders\n",
    "trade_client.cancel_orders()"
   ]
  },
  {
   "cell_type": "markdown",
   "metadata": {},
   "source": [
    "### Positions"
   ]
  },
  {
   "cell_type": "code",
   "execution_count": null,
   "metadata": {},
   "outputs": [],
   "source": [
    "# get all open positions\n",
    "# ref. https://docs.alpaca.markets/reference/getallopenpositions-1\n",
    "positions = trade_client.get_all_positions()\n",
    "positions"
   ]
  },
  {
   "cell_type": "code",
   "execution_count": null,
   "metadata": {},
   "outputs": [],
   "source": [
    "# get positions by symbol\n",
    "# ref. https://docs.alpaca.markets/reference/getopenposition-1\n",
    "position = trade_client.get_open_position(symbol_or_asset_id=symbol)\n",
    "position\n"
   ]
  },
  {
   "cell_type": "code",
   "execution_count": null,
   "metadata": {},
   "outputs": [],
   "source": [
    "# get positions by asset_id\n",
    "trade_client.get_open_position(symbol_or_asset_id=position.asset_id)"
   ]
  },
  {
   "cell_type": "code",
   "execution_count": null,
   "metadata": {},
   "outputs": [],
   "source": [
    "# close the position with specifying qty\n",
    "# ref. https://docs.alpaca.markets/reference/deleteopenposition-1\n",
    "trade_client.close_position(\n",
    "    symbol_or_asset_id = symbol,\n",
    "    close_options = ClosePositionRequest(\n",
    "        qty = \"0.01\",\n",
    "    )\n",
    ")"
   ]
  },
  {
   "cell_type": "markdown",
   "metadata": {},
   "source": [
    "# Trade Update (Stream)"
   ]
  },
  {
   "cell_type": "markdown",
   "metadata": {},
   "source": [
    "With TradingStream client, you can get updates about trades\n",
    "\n",
    "You can open this notebook in another window and run below cell to check trade updates."
   ]
  },
  {
   "cell_type": "code",
   "execution_count": null,
   "metadata": {},
   "outputs": [],
   "source": [
    "# subscribe trade updates\n",
    "trade_stream_client = TradingStream(api_key, secret_key, paper=paper, url_override = trade_api_wss)\n",
    "\n",
    "async def trade_updates_handler(data):\n",
    "    print(data)\n",
    "\n",
    "trade_stream_client.subscribe_trade_updates(trade_updates_handler)\n",
    "trade_stream_client.run()"
   ]
  },
  {
   "cell_type": "markdown",
   "metadata": {},
   "source": [
    "# Market Data (Historical)"
   ]
  },
  {
   "cell_type": "code",
   "execution_count": null,
   "metadata": {},
   "outputs": [],
   "source": [
    "# setup crypto historical data client\n",
    "crypto_historical_data_client = CryptoHistoricalDataClient()"
   ]
  },
  {
   "cell_type": "code",
   "execution_count": null,
   "metadata": {},
   "outputs": [],
   "source": [
    "# get historical bars by symbol\n",
    "# ref. https://docs.alpaca.markets/reference/cryptobars-1\n",
    "now = datetime.now(ZoneInfo(\"America/New_York\"))\n",
    "req = CryptoBarsRequest(\n",
    "    symbol_or_symbols = [symbol],\n",
    "    timeframe=TimeFrame(amount = 1, unit = TimeFrameUnit.Hour), # specify timeframe\n",
    "    start = now - timedelta(days = 5),                          # specify start datetime, default=the beginning of the current day.\n",
    "    # end_date=None,                                        # specify end datetime, default=now\n",
    "    limit = 2,                                               # specify limit\n",
    ")\n",
    "crypto_historical_data_client.get_crypto_bars(req).df"
   ]
  },
  {
   "cell_type": "code",
   "execution_count": null,
   "metadata": {},
   "outputs": [],
   "source": [
    "# get historical trades by symbol\n",
    "req = CryptoTradesRequest(\n",
    "    symbol_or_symbols = [symbol],\n",
    "    start = now - timedelta(days = 5),                          # specify start datetime, default=the beginning of the current day.\n",
    "    # end=None,                                             # specify end datetime, default=now\n",
    "    limit = 2,                                                # specify limit\n",
    ")\n",
    "crypto_historical_data_client.get_crypto_trades(req).df"
   ]
  },
  {
   "cell_type": "code",
   "execution_count": null,
   "metadata": {},
   "outputs": [],
   "source": [
    "# get latest quotes by symbol\n",
    "req = CryptoLatestQuoteRequest(\n",
    "    symbol_or_symbols = [symbol],\n",
    ")\n",
    "res = crypto_historical_data_client.get_crypto_latest_quote(req)\n",
    "res"
   ]
  }
 ],
 "metadata": {
  "kernelspec": {
   "display_name": ".venv",
   "language": "python",
   "name": "python3"
  },
  "language_info": {
   "codemirror_mode": {
    "name": "ipython",
    "version": 3
   },
   "file_extension": ".py",
   "mimetype": "text/x-python",
   "name": "python",
   "nbconvert_exporter": "python",
   "pygments_lexer": "ipython3",
   "version": "3.12.2"
  }
 },
 "nbformat": 4,
 "nbformat_minor": 2
}
