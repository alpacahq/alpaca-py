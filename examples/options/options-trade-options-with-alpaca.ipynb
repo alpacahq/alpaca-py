{
 "cells": [
  {
   "cell_type": "markdown",
   "metadata": {},
   "source": [
    "> <b>Note: This Jupyter Notebook is associated with the article: [How To Trade Options with Alpaca's Dashboard and Trading API](https://alpaca.markets/learn/how-to-trade-options-with-alpaca).</b>"
   ]
  },
  {
   "cell_type": "markdown",
   "metadata": {},
   "source": [
    "[![Open In Colab](https://colab.research.google.com/assets/colab-badge.svg)](https://colab.research.google.com/github/alpacahq/alpaca-py/blob/master/examples/options/trade-options-with-alpaca.ipynb)"
   ]
  },
  {
   "cell_type": "markdown",
   "metadata": {},
   "source": [
    "## Options Trading Using Alpaca-py"
   ]
  },
  {
   "cell_type": "markdown",
   "metadata": {},
   "source": [
    "### 1. Setup"
   ]
  },
  {
   "cell_type": "code",
   "execution_count": null,
   "metadata": {},
   "outputs": [],
   "source": [
    "# 1.1 Install / Update Alpaca-py\n",
    "!pip install --upgrade alpaca-py"
   ]
  },
  {
   "cell_type": "code",
   "execution_count": null,
   "metadata": {},
   "outputs": [],
   "source": [
    "# 1.2 Import Necessary Packages\n",
    "import json\n",
    "from datetime import datetime, timedelta\n",
    "import os\n",
    "\n",
    "import pandas as pd\n",
    "from dotenv import load_dotenv\n",
    "from zoneinfo import ZoneInfo\n",
    "\n",
    "from alpaca.trading.client import TradingClient\n",
    "from alpaca.data.timeframe import TimeFrame, TimeFrameUnit\n",
    "from alpaca.data.historical.stock import StockHistoricalDataClient, StockLatestTradeRequest\n",
    "from alpaca.data.historical.option import OptionHistoricalDataClient\n",
    "from alpaca.trading.stream import TradingStream\n",
    "from alpaca.data.live.option import OptionDataStream\n",
    "\n",
    "from alpaca.data.requests import (\n",
    "    OptionBarsRequest,\n",
    "    OptionTradesRequest,\n",
    "    OptionLatestQuoteRequest,\n",
    "    OptionLatestTradeRequest,\n",
    "    OptionSnapshotRequest,\n",
    "    OptionChainRequest\n",
    ")\n",
    "from alpaca.trading.requests import (\n",
    "    GetOptionContractsRequest,\n",
    "    GetAssetsRequest,\n",
    "    MarketOrderRequest,\n",
    "    GetOrdersRequest,\n",
    "    ClosePositionRequest,\n",
    "    OptionLegRequest\n",
    ")\n",
    "from alpaca.trading.enums import (\n",
    "    AssetStatus,\n",
    "    ExerciseStyle,\n",
    "    OrderSide,\n",
    "    OrderClass,\n",
    "    OrderType,\n",
    "    TimeInForce,\n",
    "    QueryOrderStatus,\n",
    "    ContractType\n",
    ")\n",
    "from alpaca.common.exceptions import APIError"
   ]
  },
  {
   "cell_type": "code",
   "execution_count": null,
   "metadata": {},
   "outputs": [],
   "source": [
    "# Please safely store your API keys and never commit them to the repository (use .gitignore)\n",
    "# Load environment variables from environment file (e.g. .env)\n",
    "load_dotenv()\n",
    "\n",
    "TRADE_API_KEY = os.environ.get('ALPACA_API_KEY')\n",
    "TRADE_API_SECRET = os.environ.get('ALPACA_SECRET_KEY')\n",
    "\n",
    "# We use paper environment for this example\n",
    "ALPACA_PAPER_TRADE = True\n",
    "\n",
    "# Below are the variables for development this documents so please do not change these variables\n",
    "TRADE_API_WSS = None\n",
    "DATA_API_URL = None\n",
    "OPTION_STREAM_DATA_WSS = None"
   ]
  },
  {
   "cell_type": "markdown",
   "metadata": {},
   "source": [
    "### 2. Setup clients\n",
    "\n",
    "Load API keys securely from a .env file\\\n",
    "You can get them from https://alpaca.markets/\n",
    "\n",
    "* Step 1: Create a file named `.env` in your project root (same folder as this notebook)\n",
    "* Step 2: Add your paper (live) trading keys in this format:\n",
    "    * ALPACA_API_KEY=your_actual_api_key\n",
    "    * ALPACA_SECRET_KEY=your_actual_secret_key\n",
    "* Step 3: Make sure you have the 'python-dotenv' package installed:\n",
    "    `!pip install python-dotenv`"
   ]
  },
  {
   "cell_type": "code",
   "execution_count": null,
   "metadata": {},
   "outputs": [],
   "source": [
    "# To enable live trading, replace `ALPACA_PAPER_TRADE = True` with `ALPACA_PAPER_TRADE = False` to disable the paper trading configuration\n",
    "trade_client = TradingClient(api_key=TRADE_API_KEY, secret_key=TRADE_API_SECRET, paper=ALPACA_PAPER_TRADE)\n",
    "stock_data_client = StockHistoricalDataClient(api_key=TRADE_API_KEY, secret_key=TRADE_API_SECRET)"
   ]
  },
  {
   "cell_type": "markdown",
   "metadata": {},
   "source": [
    "### 3. Check trading account"
   ]
  },
  {
   "cell_type": "code",
   "execution_count": null,
   "metadata": {},
   "outputs": [],
   "source": [
    "# Check account related information\n",
    "acc = trade_client.get_account()\n",
    "acc"
   ]
  },
  {
   "cell_type": "markdown",
   "metadata": {},
   "source": [
    "### 4. Check account configuration"
   ]
  },
  {
   "cell_type": "code",
   "execution_count": null,
   "metadata": {},
   "outputs": [],
   "source": [
    "# Check account configurations\n",
    "acct_config = trade_client.get_account_configurations()\n",
    "acct_config"
   ]
  },
  {
   "cell_type": "markdown",
   "metadata": {},
   "source": [
    "### 5. Retrieve list of assets which are options enabled"
   ]
  },
  {
   "cell_type": "code",
   "execution_count": null,
   "metadata": {},
   "outputs": [],
   "source": [
    "# We can filter assets by `options_enabled` attribute\n",
    "# Asset object has `options_enabled` attribute if it is options enabled\n",
    "req = GetAssetsRequest(\n",
    "  attributes = \"options_enabled\"  \n",
    ")\n",
    "assets = trade_client.get_all_assets(req)\n",
    "assets"
   ]
  },
  {
   "cell_type": "markdown",
   "metadata": {},
   "source": [
    "### 6. Get list of options contracts for the given symbol (e.g. SPY)"
   ]
  },
  {
   "cell_type": "code",
   "execution_count": null,
   "metadata": {},
   "outputs": [],
   "source": [
    "# In this instance, we retrieve the necessary contracts based on the parameters we've configured.\n",
    "# specify underlying symbol\n",
    "\n",
    "underlying_symbol = \"SPY\"\n",
    "req = GetOptionContractsRequest(\n",
    "    underlying_symbol=[underlying_symbol],  \n",
    "    # specify asset status: active (default)\n",
    "    status=AssetStatus.ACTIVE,   \n",
    "    # specify expiration date (specified date + 1 day range)\n",
    "    expiration_date = None,\n",
    "    # we can pass a date object or string (YYYY-MM-DD) to specify an expiration date range\n",
    "    expiration_date_gte = None,                            \n",
    "    expiration_date_lte = None, \n",
    "    # specify root symbol\n",
    "    root_symbol = None,\n",
    "    # specify option type (ContractType.CALL or ContractType.PUT)\n",
    "    type = None,  \n",
    ")\n",
    "\n",
    "res = trade_client.get_option_contracts(req)\n",
    "res"
   ]
  },
  {
   "cell_type": "markdown",
   "metadata": {},
   "source": [
    "### 7. Get options contract by symbol"
   ]
  },
  {
   "cell_type": "code",
   "execution_count": null,
   "metadata": {},
   "outputs": [],
   "source": [
    "symbol = res.option_contracts[0].symbol\n",
    "contract = trade_client.get_option_contract(symbol)\n",
    "contract"
   ]
  },
  {
   "cell_type": "markdown",
   "metadata": {},
   "source": [
    "### 8. Get options contract by id"
   ]
  },
  {
   "cell_type": "code",
   "execution_count": null,
   "metadata": {},
   "outputs": [],
   "source": [
    "contract_id = res.option_contracts[0].id\n",
    "contract = trade_client.get_option_contract(symbol_or_id=contract_id)\n",
    "contract"
   ]
  },
  {
   "cell_type": "markdown",
   "metadata": {},
   "source": [
    "### 9. Get put options contracts\n",
    "Please note that the stock SPY is used as an example and should not be considered investment advice."
   ]
  },
  {
   "cell_type": "code",
   "execution_count": null,
   "metadata": {},
   "outputs": [],
   "source": [
    "# We can filter the contracts that are relevant to us by specifying various option properties like expiration date range (the contracts which are expiring within a particular time window), strike range (the contracts with strike prices within a given range), style of expiration for the option contract (like American or European), etc.\n",
    "\n",
    "underlying_symbol = \"SPY\"\n",
    "\n",
    "# specify expiration date range\n",
    "now = datetime.now(tz=ZoneInfo(\"America/New_York\"))\n",
    "day1 = now + timedelta(days=1)\n",
    "day60 = now + timedelta(days=60)\n",
    "\n",
    "req = GetOptionContractsRequest(\n",
    "    # specify underlying symbol\n",
    "    underlying_symbol = [underlying_symbol],\n",
    "    # specify asset status: active (default)\n",
    "    status = AssetStatus.ACTIVE,\n",
    "    # specify expiration date (specified date + 1 day range)\n",
    "    expiration_date = None,\n",
    "    # we can pass date object or string\n",
    "    expiration_date_gte = day1.date(),\n",
    "    expiration_date_lte = day60.strftime(format=\"%Y-%m-%d\"),\n",
    "    # specify root symbol\n",
    "    root_symbol = None,\n",
    "    # specify option type: put\n",
    "    type = ContractType.PUT,    \n",
    "    # specify option style: american\n",
    "    style = ExerciseStyle.AMERICAN,\n",
    "    # specify strike price range\n",
    "    strike_price_gte = None,\n",
    "    strike_price_lte = None,\n",
    "    # specify limit\n",
    "    limit = 100,\n",
    "    # specify page\n",
    "    page = None\n",
    ")\n",
    "\n",
    "res = trade_client.get_option_contracts(req)\n",
    "res"
   ]
  },
  {
   "cell_type": "markdown",
   "metadata": {},
   "source": [
    "### 10. Get the highest open interest contract"
   ]
  },
  {
   "cell_type": "code",
   "execution_count": null,
   "metadata": {},
   "outputs": [],
   "source": [
    "# Filter contract with the highest open interest\n",
    "\n",
    "max_open_interest = 0\n",
    "high_open_interest_contract = None\n",
    "for contract in res.option_contracts:\n",
    "    oi = contract.open_interest\n",
    "    if oi is not None:\n",
    "        try:\n",
    "            oi_int = int(oi)\n",
    "            if oi_int > max_open_interest:\n",
    "                max_open_interest = oi_int\n",
    "                high_open_interest_contract = contract\n",
    "        # skip if not convertible to int\n",
    "        except ValueError:\n",
    "            continue "
   ]
  },
  {
   "cell_type": "markdown",
   "metadata": {},
   "source": [
    "### 11. Explore information about the selected contract"
   ]
  },
  {
   "cell_type": "code",
   "execution_count": null,
   "metadata": {},
   "outputs": [],
   "source": [
    "# Check contract information like expiry, expiration style and contract status\n",
    "\n",
    "#Check option expiry\n",
    "print(high_open_interest_contract.expiration_date)\n",
    "\n",
    "#Check option status\n",
    "print(high_open_interest_contract.status)\n",
    "\n",
    "#Check option exercise style\n",
    "print(high_open_interest_contract.style)"
   ]
  },
  {
   "cell_type": "markdown",
   "metadata": {},
   "source": [
    "### 12. Place a long put option order\n",
    "\n",
    "**NOTE:**\n",
    "* On expiration days, option orders must be submitted before 3:15 p.m. ET and before 3:30 p.m. ET for broad-based ETFs like SPY and QQQ. Orders placed after these times will be rejected.\n",
    "* Expiring positions are auto-liquidated starting at 3:30 p.m. ET (options) and 3:45 p.m. ET (broad-based ETFs) for risk management."
   ]
  },
  {
   "cell_type": "code",
   "execution_count": null,
   "metadata": {},
   "outputs": [],
   "source": [
    "# Execute either a Buy Call or Put option order in accordance with your trading strategy\n",
    "\n",
    "req = MarketOrderRequest(\n",
    "    symbol=high_open_interest_contract.symbol,\n",
    "    qty=1,\n",
    "    side=OrderSide.BUY,\n",
    "    type=OrderType.MARKET,\n",
    "    time_in_force=TimeInForce.DAY,\n",
    ")\n",
    "res = trade_client.submit_order(req)\n",
    "res"
   ]
  },
  {
   "cell_type": "markdown",
   "metadata": {},
   "source": [
    "### 13. Get list of requested orders by specifying option contract symbol"
   ]
  },
  {
   "cell_type": "code",
   "execution_count": null,
   "metadata": {},
   "outputs": [],
   "source": [
    "req = GetOrdersRequest(\n",
    "    status=QueryOrderStatus.ALL,\n",
    "    symbols=[high_open_interest_contract.symbol],\n",
    "    limit=2,\n",
    ")\n",
    "orders = trade_client.get_orders(req)\n",
    "orders"
   ]
  },
  {
   "cell_type": "markdown",
   "metadata": {},
   "source": [
    "### 14. Filter order with the desired client_order_id and print the status\n",
    "\n",
    "The `client_order_id` parameter allows traders to specify their own identifier when submitting an order, enabling them to manage the order using their own reference"
   ]
  },
  {
   "cell_type": "code",
   "execution_count": null,
   "metadata": {},
   "outputs": [],
   "source": [
    "import uuid\n",
    "client_order_id = f\"order_{uuid.uuid4().hex[:8]}\"\n",
    "\n",
    "# Execute a Buy Call or Put option order with a custom client_order_id for order tracking and identification\n",
    "req = MarketOrderRequest(\n",
    "    symbol=high_open_interest_contract.symbol,\n",
    "    qty=1,\n",
    "    side=OrderSide.BUY,\n",
    "    type=OrderType.MARKET,\n",
    "    time_in_force=TimeInForce.DAY,\n",
    "    client_order_id=client_order_id,\n",
    ")\n",
    "res = trade_client.submit_order(req)\n",
    "res"
   ]
  },
  {
   "cell_type": "code",
   "execution_count": null,
   "metadata": {},
   "outputs": [],
   "source": [
    "# Extract order information by the custom client_order_id\n",
    "trade_client.get_order_by_client_id(client_id=client_order_id)"
   ]
  },
  {
   "cell_type": "markdown",
   "metadata": {},
   "source": [
    "### 15. Get positions filtered by option contract symbol"
   ]
  },
  {
   "cell_type": "code",
   "execution_count": null,
   "metadata": {},
   "outputs": [],
   "source": [
    "# 15.1 Get all positions\n",
    "positions = trade_client.get_all_positions()\n",
    "positions"
   ]
  },
  {
   "cell_type": "code",
   "execution_count": null,
   "metadata": {},
   "outputs": [],
   "source": [
    "#15.2 Get open positions by symbol\n",
    "positions = trade_client.get_open_position(\n",
    "symbol_or_asset_id=high_open_interest_contract.symbol\n",
    ")\n",
    "positions"
   ]
  },
  {
   "cell_type": "code",
   "execution_count": null,
   "metadata": {},
   "outputs": [],
   "source": [
    "# 15.3 Get open positions by contract id\n",
    "positions = trade_client.get_open_position(\n",
    "symbol_or_asset_id=high_open_interest_contract.id\n",
    ")\n",
    "positions"
   ]
  },
  {
   "cell_type": "code",
   "execution_count": null,
   "metadata": {},
   "outputs": [],
   "source": [
    "# 15.4 check cost basis and unrealized profit/loss\n",
    "# Show cost basis\n",
    "print(positions.cost_basis)\n",
    "\n",
    "# Show unrealized profit/loss\n",
    "print(positions.unrealized_pl)"
   ]
  },
  {
   "cell_type": "markdown",
   "metadata": {},
   "source": [
    "### 16. Close the option position"
   ]
  },
  {
   "cell_type": "code",
   "execution_count": null,
   "metadata": {},
   "outputs": [],
   "source": [
    "trade_client.close_position(\n",
    "    symbol_or_asset_id=high_open_interest_contract.symbol,\n",
    "    close_options=ClosePositionRequest(qty=\"1\")\n",
    ")"
   ]
  },
  {
   "cell_type": "markdown",
   "metadata": {},
   "source": [
    "### 17. Trade Update (Stream)"
   ]
  },
  {
   "cell_type": "code",
   "execution_count": null,
   "metadata": {},
   "outputs": [],
   "source": [
    "# This allows the event loop to support `asyncio.run()` inside the notebook.\n",
    "# !pip install nest_asyncio\n",
    "import nest_asyncio\n",
    "nest_asyncio.apply()"
   ]
  },
  {
   "cell_type": "code",
   "execution_count": null,
   "metadata": {},
   "outputs": [],
   "source": [
    "# Retrieve real-time live trade update data from the moment the order is placed until execution.\n",
    "# Subscribe trade updates\n",
    "\n",
    "trade_stream_client = TradingStream(TRADE_API_KEY, TRADE_API_SECRET, paper=ALPACA_PAPER_TRADE, url_override=TRADE_API_WSS)\n",
    "\n",
    "async def trade_updates_handler(data):\n",
    "    print(data)\n",
    "\n",
    "trade_stream_client.subscribe_trade_updates(trade_updates_handler)\n",
    "trade_stream_client.run()"
   ]
  },
  {
   "cell_type": "markdown",
   "metadata": {},
   "source": [
    "### 18. Market Data (Historical)"
   ]
  },
  {
   "cell_type": "code",
   "execution_count": null,
   "metadata": {},
   "outputs": [],
   "source": [
    "# setup option historical data client\n",
    "option_historical_data_client = OptionHistoricalDataClient(TRADE_API_KEY, TRADE_API_SECRET, url_override=DATA_API_URL)\n",
    "\n",
    "# get option latest quote by symbol\n",
    "req = OptionLatestQuoteRequest(\n",
    "    symbol_or_symbols=[high_open_interest_contract.symbol],\n",
    ")\n",
    "option_historical_data_client.get_option_latest_quote(req)"
   ]
  },
  {
   "cell_type": "code",
   "execution_count": null,
   "metadata": {},
   "outputs": [],
   "source": [
    "# get option latest trade by symbol\n",
    "req = OptionLatestTradeRequest(\n",
    "    symbol_or_symbols=[high_open_interest_contract.symbol],\n",
    ")\n",
    "option_historical_data_client.get_option_latest_trade(req)"
   ]
  },
  {
   "cell_type": "code",
   "execution_count": null,
   "metadata": {},
   "outputs": [],
   "source": [
    "# get option chain by underlying_symbol\n",
    "req = OptionChainRequest(\n",
    "    underlying_symbol=high_open_interest_contract.underlying_symbol,\n",
    ")\n",
    "option_historical_data_client.get_option_chain(req)"
   ]
  },
  {
   "cell_type": "markdown",
   "metadata": {},
   "source": [
    "### 19. Market Data (Stream)"
   ]
  },
  {
   "cell_type": "code",
   "execution_count": null,
   "metadata": {},
   "outputs": [],
   "source": [
    "# This allows the event loop to support `asyncio.run()` inside the notebook.\n",
    "import nest_asyncio\n",
    "nest_asyncio.apply()"
   ]
  },
  {
   "cell_type": "code",
   "execution_count": null,
   "metadata": {},
   "outputs": [],
   "source": [
    "# Live streaming of market data based on a collection of symbols or an individual symbol\n",
    "option_data_stream_client = OptionDataStream(TRADE_API_KEY, TRADE_API_SECRET, url_override=OPTION_STREAM_DATA_WSS)\n",
    "\n",
    "async def option_data_stream_handler(data):\n",
    "    print(data)\n",
    "\n",
    "symbols=[\n",
    "    high_open_interest_contract.symbol,\n",
    "]\n",
    "\n",
    "option_data_stream_client.subscribe_quotes(option_data_stream_handler, *symbols) \n",
    "option_data_stream_client.subscribe_trades(option_data_stream_handler, *symbols)\n",
    "\n",
    "option_data_stream_client.run()"
   ]
  },
  {
   "cell_type": "markdown",
   "metadata": {},
   "source": [
    "### 20. Place Multi-Leg Options Position\n",
    "\n",
    "**Note**: \n",
    "* The stock SPY is used as an example and should not be considered investment advice.\n",
    "* The example below utilizes one of the multi-leg option strategies called a long straddle."
   ]
  },
  {
   "cell_type": "code",
   "execution_count": null,
   "metadata": {},
   "outputs": [],
   "source": [
    "# 20.1 Get the underlying stock price and define the strike range to narrow down the option chain.\n",
    "\n",
    "# Define a underlying symbol we want to trade\n",
    "underlying_symbol = 'SPY'\n",
    "\n",
    "# Get the latest price of the underlying stock\n",
    "def get_underlying_price(symbol):\n",
    "    underlying_trade_request = StockLatestTradeRequest(symbol_or_symbols=symbol)\n",
    "    underlying_trade_response = stock_data_client.get_stock_latest_trade(underlying_trade_request)\n",
    "    return underlying_trade_response[symbol].price\n",
    "\n",
    "# Get the latest price of the underlying stock\n",
    "underlying_price = get_underlying_price(underlying_symbol)\n",
    "\n",
    "# Define a 1% range around the underlying price \n",
    "STRIKE_RANGE = 0.01\n",
    "\n",
    "# Set the minimum and maximum strike prices based on the underlying price\n",
    "min_strike = str(underlying_price * (1 - STRIKE_RANGE))\n",
    "max_strike = str(underlying_price * (1 + STRIKE_RANGE))\n",
    "\n",
    "print(f\"{underlying_symbol} price: {underlying_price}\")"
   ]
  },
  {
   "cell_type": "code",
   "execution_count": null,
   "metadata": {},
   "outputs": [],
   "source": [
    "# 20.2 Define a function to find near at-the-money (ATM) options\n",
    "\n",
    "# This is a function that will return a contract which minimizes the difference from a target price\n",
    "def find_nearest_strike_contract(contracts, target_price):\n",
    "    min_diff = 0\n",
    "    min_contract = None\n",
    "    for contract in contracts:\n",
    "        diff = abs(float(contract.strike_price) - target_price)\n",
    "        if min_contract is None or diff < min_diff:\n",
    "            min_diff = diff\n",
    "            min_contract = contract\n",
    "    return min_contract"
   ]
  },
  {
   "cell_type": "code",
   "execution_count": null,
   "metadata": {},
   "outputs": [],
   "source": [
    "# 20.3 Narrow down the options to near-ATM options\n",
    "\n",
    "# Obtain both call options and put options of the specified underlying asset\n",
    "underlying_symbol = ['SPY']\n",
    "order_legs = []\n",
    "\n",
    "for c_type in [ContractType.CALL, ContractType.PUT]:\n",
    "    print(c_type)\n",
    "    req = GetOptionContractsRequest(\n",
    "        underlying_symbols=underlying_symbol,\n",
    "        status=AssetStatus.ACTIVE,\n",
    "        expiration_date_gte = now.date() + timedelta(days=7),\n",
    "        expiration_date_lte = now.date() + timedelta(days=8),\n",
    "        style=ExerciseStyle.AMERICAN,\n",
    "        strike_price_gte=min_strike,\n",
    "        strike_price_lte=max_strike,\n",
    "        type=c_type,\n",
    "        page_token=None\n",
    "    )\n",
    "    # Get option chain of the underlying symbol for both contract types\n",
    "    cts = trade_client.get_option_contracts(req)\n",
    "\n",
    "    c = find_nearest_strike_contract(cts.option_contracts, underlying_price)\n",
    "    if c is not None:\n",
    "        order_legs.append(OptionLegRequest(\n",
    "            symbol=c.symbol,\n",
    "            side=OrderSide.BUY,\n",
    "            ratio_qty=1\n",
    "        ))\n",
    "    else:\n",
    "        print(f\"No suitable contract found for {c_type}\")\n",
    "\n",
    "# We should see that the symbols are similar, like \"SPY______C________\" and \"SPY______P________\",\n",
    "# with all values marked as \"_\" being the same in both symbols.\n",
    "# Such is because we expect only the contract type (call or put, C or P) to be different.\n",
    "\n",
    "order_legs"
   ]
  },
  {
   "cell_type": "code",
   "execution_count": null,
   "metadata": {},
   "outputs": [],
   "source": [
    "# 20.4 Place the order for both legs simultaneously to execute the long straddle\n",
    "\n",
    "# Set up an order request\n",
    "req = MarketOrderRequest(\n",
    "    qty=1,\n",
    "    order_class=OrderClass.MLEG,\n",
    "    time_in_force=TimeInForce.DAY,\n",
    "    legs=order_legs\n",
    ")\n",
    "# place the order of the long straddle\n",
    "res = trade_client.submit_order(req)\n",
    "res"
   ]
  }
 ],
 "metadata": {
  "kernelspec": {
   "display_name": "Python 3",
   "language": "python",
   "name": "python3"
  },
  "language_info": {
   "name": "python",
   "version": "3.11.12"
  }
 },
 "nbformat": 4,
 "nbformat_minor": 2
}
