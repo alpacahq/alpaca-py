{
 "cells": [
  {
   "cell_type": "markdown",
   "metadata": {},
   "source": [
    "<b>Note: This Jupyter Notebook is associated with the article [How To Trade 0DTE Options with Alpaca's Trading API (in Python)](https://alpaca.markets/learn/how-to-trade-0dte-options-on-alpaca).</b>"
   ]
  },
  {
   "cell_type": "markdown",
   "metadata": {},
   "source": [
    "# Environment Setup\n",
    "- Please use ``paper account``. Please ``DO NOT`` use this notebook with live account. In this notebook, we place orders for options as an example."
   ]
  },
  {
   "cell_type": "code",
   "execution_count": null,
   "metadata": {
    "colab": {
     "base_uri": "https://localhost:8080/"
    },
    "executionInfo": {
     "elapsed": 3365,
     "status": "ok",
     "timestamp": 1738943817705,
     "user": {
      "displayName": "Satoshi Ido",
      "userId": "17211183582370417193"
     },
     "user_tz": 360
    },
    "id": "FD7TLkWp149t",
    "outputId": "5de22f6c-1810-4cc3-926f-042e5a79395b"
   },
   "outputs": [],
   "source": [
    "# Install or upgrade the package `alpaca-py` and import it\n",
    "!python3 -m pip install --upgrade alpaca-py\n",
    "\n",
    "import pandas as pd\n",
    "import numpy as np\n",
    "from scipy.stats import norm\n",
    "import alpaca\n",
    "from scipy.optimize import brentq\n",
    "from datetime import datetime, time\n",
    "from zoneinfo import ZoneInfo\n",
    "\n",
    "from alpaca.trading.client import TradingClient\n",
    "from alpaca.trading.requests import (\n",
    "    MarketOrderRequest,\n",
    "    GetOptionContractsRequest,\n",
    "    MarketOrderRequest,\n",
    "    OptionLegRequest,\n",
    "    ClosePositionRequest,\n",
    ")\n",
    "from alpaca.data.historical.option import OptionHistoricalDataClient\n",
    "from alpaca.data.historical.stock import StockHistoricalDataClient, StockLatestTradeRequest\n",
    "from alpaca.data.requests import OptionLatestQuoteRequest\n",
    "from alpaca.trading.enums import (\n",
    "    AssetStatus,\n",
    "    # ExerciseStyle,\n",
    "    OrderSide,\n",
    "    OrderClass,\n",
    "    OrderType,\n",
    "    TimeInForce,\n",
    "    # QueryOrderStatus,\n",
    "    ContractType\n",
    ")"
   ]
  },
  {
   "cell_type": "code",
   "execution_count": null,
   "metadata": {},
   "outputs": [],
   "source": [
    "# API_KEY = \"Alpaca's Trading API Key (Paper Account)\"\n",
    "# API_SECRET = \"Alpaca's Trading API Secret Key (Paper Account)\"\n",
    "\n",
    "# A safe approach to setting up API credentials for Alpaca (Assume you run this notebook in Google Colab)\n",
    "# Add your key to Colab Secrets. Add your API key to the Colab Secrets manager to securely store it\n",
    "from google.colab import userdata\n",
    "API_KEY = userdata.get('ALPACA_API_KEY')\n",
    "API_SECRET = userdata.get('ALPACA_SECRET_KEY')\n",
    "BASE_URL = None\n",
    "## We use paper environment for this example\n",
    "PAPER = True # Please do not modify this. This example is for paper trading only.\n",
    "\n",
    "# Initialize Alpaca clients\n",
    "trade_client = TradingClient(api_key=API_KEY, secret_key=API_SECRET, paper=PAPER, url_override=BASE_URL)\n",
    "option_historical_data_client = OptionHistoricalDataClient(api_key=API_KEY, secret_key=API_SECRET, url_override=BASE_URL)\n",
    "stock_data_client = StockHistoricalDataClient(api_key=API_KEY, secret_key=API_SECRET)\n",
    "\n",
    "# Below are the variables for developing this documents\n",
    "# Please do not change these variables\n",
    "trade_api_url = None\n",
    "trade_api_wss = None\n",
    "data_api_url = None\n",
    "option_stream_data_wss = None"
   ]
  },
  {
   "cell_type": "code",
   "execution_count": null,
   "metadata": {
    "id": "JK0gJ95bJlWQ"
   },
   "outputs": [],
   "source": [
    "# Configuration\n",
    "underlying_symbol = 'SPY'\n",
    "\n",
    "# Set the timezone\n",
    "timezone = ZoneInfo(\"America/New_York\")\n",
    "\n",
    "# Set expiration range for options\n",
    "today = datetime.now(timezone).date()\n",
    "\n",
    "# Define a 10% range around the underlying price\n",
    "STRIKE_RANGE = 0.1\n",
    "\n",
    "# Risk free rate for the options greeks and IV calculations\n",
    "risk_free_rate = 0.01\n",
    "\n",
    "# Set the open interest volume threshold\n",
    "OI_THRESHOLD = 500\n",
    "\n",
    "# Buying power percentage to use for the trade\n",
    "BUY_POWER_LIMIT = 0.10\n",
    "\n",
    "# Check account buying power\n",
    "buying_power = float(trade_client.get_account().buying_power)\n",
    "\n",
    "# Calculate the limit amount of buying power to use for the trade\n",
    "buying_power_limit = buying_power * BUY_POWER_LIMIT\n",
    "\n",
    "# Define delta thresholds\n",
    "SHORT_PUT_DELTA_RANGE = (-0.42, -0.38)\n",
    "LONG_PUT_DELTA_RANGE = (-0.22, -0.18)\n",
    "\n",
    "# Set minimum credit percentage (33%)\n",
    "MIN_CREDIT_PERCENTAGE = 0.33\n",
    "\n",
    "# Set stop loss threshold threshold (2 times)\n",
    "DELTA_STOP_LOSS_THRES = 2\n",
    "\n",
    "# Set target profit and stop-loss levels\n",
    "TARGET_STOP_LOSS_PERCENTAGE = 0.5"
   ]
  },
  {
   "cell_type": "code",
   "execution_count": null,
   "metadata": {
    "colab": {
     "base_uri": "https://localhost:8080/"
    },
    "executionInfo": {
     "elapsed": 141,
     "status": "ok",
     "timestamp": 1738943696443,
     "user": {
      "displayName": "Satoshi Ido",
      "userId": "17211183582370417193"
     },
     "user_tz": 360
    },
    "id": "zVxL5D3UKkGK",
    "outputId": "1684f3aa-be9f-48c3-a2ca-1a20524de0d3"
   },
   "outputs": [],
   "source": [
    "# Get the latest price of the underlying stock\n",
    "def get_underlying_price(symbol):\n",
    "    # Get the latest trade for the underlying stock\n",
    "    underlying_trade_request = StockLatestTradeRequest(symbol_or_symbols=symbol)\n",
    "    underlying_trade_response = stock_data_client.get_stock_latest_trade(underlying_trade_request)\n",
    "    return underlying_trade_response[symbol].price\n",
    "\n",
    "# Get the latest price of the underlying stock\n",
    "underlying_price = get_underlying_price(underlying_symbol)\n",
    "print(f\"{underlying_symbol} price: {underlying_price}\")"
   ]
  },
  {
   "cell_type": "markdown",
   "metadata": {},
   "source": [
    "## Build a Function to extract a List of 0DTE options"
   ]
  },
  {
   "cell_type": "code",
   "execution_count": null,
   "metadata": {
    "id": "nL1Wp4m8LA8e"
   },
   "outputs": [],
   "source": [
    "# Set the minimum and maximum strike prices based on the underlying price\n",
    "min_strike = str(underlying_price * (1 - STRIKE_RANGE))\n",
    "max_strike = str(underlying_price * (1 + STRIKE_RANGE))\n",
    "\n",
    "# Function to check for 0DTE options\n",
    "def get_0DTE_options(underlying_symbol):\n",
    "    # Fetch the options data to add to the portfolio\n",
    "    req = GetOptionContractsRequest(underlying_symbols=[underlying_symbol],\n",
    "                                    strike_price_gte=min_strike,\n",
    "                                    strike_price_lte=max_strike,\n",
    "                                    status=AssetStatus.ACTIVE,\n",
    "                                    expiration_date=today,\n",
    "                                    root_symbol=underlying_symbol,\n",
    "                                    type=ContractType.PUT,\n",
    "                                    )\n",
    "\n",
    "    # Get option chain (zero_dte_option) of the underlying symbol\n",
    "    zero_dte_options = trade_client.get_option_contracts(req).option_contracts\n",
    "\n",
    "    return zero_dte_options"
   ]
  },
  {
   "cell_type": "markdown",
   "metadata": {},
   "source": [
    "## Calculate Implied Volatility and Option Greek (Delta)"
   ]
  },
  {
   "cell_type": "code",
   "execution_count": null,
   "metadata": {
    "id": "mongH0DnL_DJ"
   },
   "outputs": [],
   "source": [
    "# Calculate implied volatility\n",
    "def calculate_implied_volatility(option_price, S, K, T, r, option_type):\n",
    "\n",
    "    # Define a reasonable range for sigma\n",
    "    sigma_lower = 1e-6\n",
    "    sigma_upper = 5.0  # Adjust upper limit if necessary\n",
    "\n",
    "    # Check if the option is out-of-the-money and price is close to zero\n",
    "    intrinsic_value = max(0, (S - K) if option_type == 'call' else (K - S))\n",
    "    if option_price <= intrinsic_value + 1e-6:\n",
    "\n",
    "        # print(\"Option price is close to intrinsic value; implied volatility is near zero.\") # Uncomment for checking the status\n",
    "\n",
    "        return 0.0\n",
    "\n",
    "    # Define the function to find the root\n",
    "    def option_price_diff(sigma):\n",
    "        d1 = (np.log(S / K) + (r + 0.5 * sigma ** 2) * T) / (sigma * np.sqrt(T))\n",
    "        d2 = d1 - sigma * np.sqrt(T)\n",
    "        if option_type == 'call':\n",
    "            price = S * norm.cdf(d1) - K * np.exp(-r * T) * norm.cdf(d2)\n",
    "        elif option_type == 'put':\n",
    "            price = K * np.exp(-r * T) * norm.cdf(-d2) - S * norm.cdf(-d1)\n",
    "        return price - option_price\n",
    "\n",
    "    try:\n",
    "        return brentq(option_price_diff, sigma_lower, sigma_upper)\n",
    "    except ValueError as e:\n",
    "        print(f\"Failed to find implied volatility: {e}\")\n",
    "        return None\n",
    "\n",
    "\n",
    "# Calculate option Delta\n",
    "def calculate_delta(option_price, strike_price, expiry, underlying_price, risk_free_rate, option_type):\n",
    "    # Set the current date and time\n",
    "    now = datetime.now(tz=timezone)\n",
    "    # Calculate the time to expiry in years\n",
    "    T = (expiry - now).total_seconds() / (365 * 24 * 60 * 60)\n",
    "    # Set minimum T to avoid zero\n",
    "    T = max(T, 1e-6)\n",
    "\n",
    "    if T == 1e-6:\n",
    "        print(\"Option has expired or is expiring now; setting delta based on intrinsic value.\")\n",
    "        if option_type == 'put':\n",
    "            return -1.0 if underlying_price < strike_price else 0.0\n",
    "        else:\n",
    "            return 1.0 if underlying_price > strike_price else 0.0\n",
    "\n",
    "    implied_volatility = calculate_implied_volatility(option_price, underlying_price, strike_price, T, risk_free_rate, option_type)\n",
    "    if implied_volatility is None:\n",
    "        print(\"Implied volatility could not be determined, skipping delta calculation.\")\n",
    "        return None\n",
    "\n",
    "    d1 = (np.log(underlying_price / strike_price) + (risk_free_rate + 0.5 * implied_volatility ** 2) * T) / (implied_volatility * np.sqrt(T))\n",
    "    delta = norm.cdf(d1) if option_type == 'call' else -norm.cdf(-d1)\n",
    "    return delta"
   ]
  },
  {
   "cell_type": "markdown",
   "metadata": {},
   "source": [
    "## Build a Function to Close a Position"
   ]
  },
  {
   "cell_type": "code",
   "execution_count": null,
   "metadata": {
    "colab": {
     "base_uri": "https://localhost:8080/"
    },
    "executionInfo": {
     "elapsed": 57,
     "status": "ok",
     "timestamp": 1738943707834,
     "user": {
      "displayName": "Satoshi Ido",
      "userId": "17211183582370417193"
     },
     "user_tz": 360
    },
    "id": "UgiBktBVHzHr",
    "outputId": "e3345284-d54d-48cb-b531-da1e224db2c8"
   },
   "outputs": [],
   "source": [
    "# Exit the spread by liquidating the position\n",
    "def close_spread(short_symbol, long_symbol):\n",
    "\n",
    "    # Close the long put by selling it\n",
    "    trade_client.close_position(\n",
    "        symbol_or_asset_id = long_symbol,\n",
    "        close_options = ClosePositionRequest(qty = \"1\")\n",
    "    )\n",
    "\n",
    "    # Close the short put by buying it back\n",
    "    trade_client.close_position(\n",
    "        symbol_or_asset_id = short_symbol,\n",
    "        close_options = ClosePositionRequest(qty = \"1\")\n",
    "    )"
   ]
  },
  {
   "cell_type": "markdown",
   "metadata": {},
   "source": [
    "# Build a Function to Search for an Appropriate Options Set for a 0DTE Bull Put Vertical Spread"
   ]
  },
  {
   "cell_type": "code",
   "execution_count": null,
   "metadata": {
    "id": "uzI9QgXuOL-i"
   },
   "outputs": [],
   "source": [
    "def find_short_and_long_puts(zero_dte_options, underlying_symbol, risk_free_rate, OI_THRESHOLD, short_put_delta_range, long_put_delta_range):\n",
    "    \"\"\"\n",
    "    Identify the short put (delta ~ -0.40) and long put (delta ~ -0.20) from the options chain.\n",
    "    Returns dictionaries containing details of the selected options.\n",
    "    \"\"\"\n",
    "    underlying_price = get_underlying_price(underlying_symbol)\n",
    "    short_put = None\n",
    "    long_put = None\n",
    "\n",
    "    for option_data in zero_dte_options:\n",
    "        try:\n",
    "            # Validate open interest and volume\n",
    "            if option_data.open_interest is None or option_data.open_interest_date is None:\n",
    "                continue\n",
    "            if float(option_data.open_interest) <= OI_THRESHOLD:\n",
    "                continue\n",
    "\n",
    "            # Fetch the latest option quote\n",
    "            option_symbol = option_data.symbol\n",
    "            option_quote_request = OptionLatestQuoteRequest(symbol_or_symbols=option_symbol)\n",
    "            option_quote = option_historical_data_client.get_option_latest_quote(option_quote_request)[option_symbol]\n",
    "            print(f\"Option symbol is: {option_symbol}\")\n",
    "\n",
    "            # Extract necessary data\n",
    "            option_price = (option_quote.bid_price + option_quote.ask_price) / 2\n",
    "            strike_price = float(option_data.strike_price)\n",
    "            expiration_date_naive_dt = datetime.combine(option_data.expiration_date, time(16, 0)) # Set time to 4:00 PM\n",
    "            expiry = expiration_date_naive_dt.replace(tzinfo=timezone)\n",
    "            # expiry = pd.Timestamp(option_data.expiration_date).replace(hour=16, minute=0, second=0)\n",
    "\n",
    "            # Calculate delta\n",
    "            delta = calculate_delta(\n",
    "                option_price=option_price,\n",
    "                strike_price=strike_price,\n",
    "                expiry=expiry,\n",
    "                underlying_price=underlying_price,\n",
    "                risk_free_rate=risk_free_rate,\n",
    "                option_type='put'\n",
    "            )\n",
    "            print(f\"Delta is: {delta}\")\n",
    "\n",
    "            # Create dictionaries for short and long puts based on delta thresholds\n",
    "            if short_put_delta_range[0] <= delta <= short_put_delta_range[1]:\n",
    "                short_put = {\n",
    "                    'close_price': option_data.close_price,\n",
    "                    'close_price_date': option_data.close_price_date,\n",
    "                    'expiration_date': expiry,\n",
    "                    'id': option_data.id,\n",
    "                    'name': option_data.name,\n",
    "                    'open_interest': option_data.open_interest,\n",
    "                    'open_interest_date': option_data.open_interest_date,\n",
    "                    'root_symbol': option_data.root_symbol,\n",
    "                    'size': option_data.size,\n",
    "                    'status': option_data.status,\n",
    "                    'strike_price': strike_price,\n",
    "                    'style': option_data.style,\n",
    "                    'symbol': option_symbol,\n",
    "                    'tradable': option_data.tradable,\n",
    "                    'type': option_data.type,\n",
    "                    'underlying_asset_id': option_data.underlying_asset_id,\n",
    "                    'underlying_symbol': option_data.underlying_symbol,\n",
    "                    'initial_delta': delta,\n",
    "                    'initial_option_price': option_price,\n",
    "                }\n",
    "            elif long_put_delta_range[0] <= delta <= long_put_delta_range[1]:\n",
    "                long_put = {\n",
    "                    'close_price': option_data.close_price,\n",
    "                    'close_price_date': option_data.close_price_date,\n",
    "                    'expiration_date': expiry,\n",
    "                    'id': option_data.id,\n",
    "                    'name': option_data.name,\n",
    "                    'open_interest': option_data.open_interest,\n",
    "                    'open_interest_date': option_data.open_interest_date,\n",
    "                    'root_symbol': option_data.root_symbol,\n",
    "                    'size': option_data.size,\n",
    "                    'status': option_data.status,\n",
    "                    'strike_price': strike_price,\n",
    "                    'style': option_data.style,\n",
    "                    'symbol': option_symbol,\n",
    "                    'tradable': option_data.tradable,\n",
    "                    'type': option_data.type,\n",
    "                    'underlying_asset_id': option_data.underlying_asset_id,\n",
    "                    'underlying_symbol': option_data.underlying_symbol,\n",
    "                    'initial_delta': delta,\n",
    "                    'initial_option_price': option_price,\n",
    "                }\n",
    "\n",
    "            # Stop searching if both options are found\n",
    "            if short_put and long_put:\n",
    "                break\n",
    "\n",
    "        except KeyError as e:\n",
    "            print(f\"Error processing option {option_symbol}: {e}\")\n",
    "            continue\n",
    "\n",
    "    return short_put, long_put\n"
   ]
  },
  {
   "cell_type": "markdown",
   "metadata": {},
   "source": [
    "# Build a Function to Execute a 0DTE Bull Put Vertical Spread"
   ]
  },
  {
   "cell_type": "code",
   "execution_count": null,
   "metadata": {
    "id": "0uK-1FRFQtoI"
   },
   "outputs": [],
   "source": [
    "def trade_0DTE_options(underlying_symbol, risk_free_rate, OI_THRESHOLD, short_put_delta_range, long_put_delta_range, min_credit_percentage, delta_stop_loss_thres, target_stop_loss_percentage):\n",
    "    \"\"\"\n",
    "    Execute a 0DTE bull put vertical spread.\n",
    "    \"\"\"\n",
    "    # Fetch zero DTE options\n",
    "    zero_dte_options = get_0DTE_options(underlying_symbol)\n",
    "\n",
    "    if not zero_dte_options:\n",
    "        print(\"No 0DTE options available for the underlying symbol.\")\n",
    "        return\n",
    "\n",
    "    # Find the short and long put options using the helper function\n",
    "    short_put, long_put = find_short_and_long_puts(zero_dte_options, underlying_symbol, risk_free_rate, OI_THRESHOLD, short_put_delta_range, long_put_delta_range)\n",
    "\n",
    "    if not short_put or not long_put:\n",
    "        print(\"Could not find suitable options with 40 and 20 deltas.\")\n",
    "        return\n",
    "\n",
    "    # Calculate the width of the spread\n",
    "    spread_width = abs(short_put['strike_price'] - long_put['strike_price'])\n",
    "\n",
    "    if not (2 <= spread_width <= 5):\n",
    "        print(f\"Spread width of {spread_width} is outside the target range of $2-$5; skipping this pair.\")\n",
    "        return\n",
    "\n",
    "    # Calculate premium collected and check against threshold\n",
    "    credit_received = short_put['initial_option_price'] - long_put['initial_option_price']\n",
    "    min_credit_threshold = spread_width * min_credit_percentage\n",
    "\n",
    "    if credit_received <= min_credit_threshold:\n",
    "        print(f\"Credit received {credit_received} is below minimum threshold {min_credit_threshold}; skipping trade.\")\n",
    "        return\n",
    "\n",
    "    # Calculate profit/loss metrics\n",
    "    max_profit = credit_received\n",
    "    max_loss = spread_width * 100 - credit_received # Since we may have an obligation to buy 100 shares if assigned\n",
    "    initial_total_delta = abs(short_put['initial_delta']) - abs(long_put['initial_delta'])\n",
    "    delta_stop_loss = initial_total_delta * delta_stop_loss_thres # Default: 2 times of the initial delta when we enter the market\n",
    "\n",
    "    print(f\"Placing 0DTE Bull Put Spread on {underlying_symbol}:\")\n",
    "    print(f\"Sell 40 Delta Put: {short_put['symbol']} (Strike: {short_put['strike_price']}, Premium: {short_put['initial_option_price']}, Delta: {short_put['initial_delta']})\")\n",
    "    print(f\"Buy 20 Delta Put: {long_put['symbol']} (Strike: {long_put['strike_price']}, Premium: {long_put['initial_option_price']}, Delta: {long_put['initial_delta']})\")\n",
    "    print(f\"Spread Width: {spread_width}, Credit received: {credit_received}, Max Profit: {max_profit}, Max Loss: {max_loss}\")\n",
    "    print(f\"Initial Total Delta: {initial_total_delta}, Delta Stop-Loss Trigger: {delta_stop_loss}\")\n",
    "\n",
    "\n",
    "    # Create a list for the order request\n",
    "    order_legs = []\n",
    "    ## Append Long Put\n",
    "    order_legs.append(OptionLegRequest(\n",
    "        symbol=long_put[\"symbol\"],\n",
    "        side=OrderSide.BUY,\n",
    "        ratio_qty=1\n",
    "    ))\n",
    "    ## Append Short Put\n",
    "    order_legs.append(OptionLegRequest(\n",
    "        symbol=short_put[\"symbol\"],\n",
    "        side=OrderSide.SELL,\n",
    "        ratio_qty=1\n",
    "    ))\n",
    "    # Place the order for both legs simultaneously\n",
    "    req = MarketOrderRequest(\n",
    "        qty=1,\n",
    "        order_class=OrderClass.MLEG,\n",
    "        time_in_force=TimeInForce.DAY,\n",
    "        legs=order_legs\n",
    "    )\n",
    "    trade_client.submit_order(req)\n",
    "    print(\"Spread order placed successfully.\")\n",
    "\n",
    "    # Set target profit and stop-loss levels\n",
    "    target_profit_price = credit_received * target_stop_loss_percentage  # Default: 50% of credit received\n",
    "\n",
    "    # Monitor the spread for delta stop-loss and profit target\n",
    "    while True:\n",
    "        # Fetch the latest quote for each leg\n",
    "        short_quote_req = OptionLatestQuoteRequest(symbol_or_symbols=[short_put['symbol']])\n",
    "        long_quote_req = OptionLatestQuoteRequest(symbol_or_symbols=[long_put['symbol']])\n",
    "\n",
    "        short_quote = option_historical_data_client.get_option_latest_quote(short_quote_req)[short_put['symbol']]\n",
    "        long_quote = option_historical_data_client.get_option_latest_quote(long_quote_req)[long_put['symbol']]\n",
    "\n",
    "        # Calculate the mid-price for each option as the current option price\n",
    "        short_put_price = (short_quote.bid_price + short_quote.ask_price) / 2\n",
    "        long_put_price = (long_quote.bid_price + long_quote.ask_price) / 2\n",
    "\n",
    "        # Calculate the latest delta values for each option\n",
    "        current_short_delta = calculate_delta(\n",
    "            option_price=short_put_price,\n",
    "            strike_price=short_put['strike_price'],\n",
    "            expiry=short_put['expiration_date'],\n",
    "            underlying_price=get_underlying_price(underlying_symbol),\n",
    "            risk_free_rate=risk_free_rate,\n",
    "            option_type='put'\n",
    "        )\n",
    "\n",
    "        expiration_date_naive_dt=datetime.combine(long_put['expiration_date'], time(16, 0)) # Set time to 4:00 PM\n",
    "\n",
    "        current_long_delta = calculate_delta(\n",
    "            option_price=long_put_price,\n",
    "            strike_price=long_put['strike_price'],\n",
    "            expiry=short_put['expiration_date'],\n",
    "            underlying_price=get_underlying_price(underlying_symbol),\n",
    "            risk_free_rate=risk_free_rate,\n",
    "            option_type='put'\n",
    "        )\n",
    "\n",
    "        # Calculate current total delta and spread price\n",
    "        current_total_delta = abs(current_short_delta) - abs(current_long_delta)\n",
    "        current_spread_price = short_put_price - long_put_price\n",
    "\n",
    "        # Exit for target profit\n",
    "        if current_spread_price <= target_profit_price:\n",
    "            close_spread(short_put['symbol'], long_put['symbol'])\n",
    "            print(f\"Exited spread for target profit at price {current_spread_price}\")\n",
    "            break\n",
    "\n",
    "        # Check if the stop-loss condition based on delta is met\n",
    "        if current_total_delta >= delta_stop_loss:\n",
    "            close_spread(short_put['symbol'], long_put['symbol'])\n",
    "            print(f\"Exited spread for delta stop-loss at total delta {current_total_delta}\")\n",
    "            break\n",
    "\n",
    "        time.sleep(180)  # Check every 3 minutes\n"
   ]
  },
  {
   "cell_type": "markdown",
   "metadata": {},
   "source": [
    "# Execute the Strategy"
   ]
  },
  {
   "cell_type": "code",
   "execution_count": null,
   "metadata": {
    "colab": {
     "base_uri": "https://localhost:8080/"
    },
    "executionInfo": {
     "elapsed": 1506,
     "status": "ok",
     "timestamp": 1738270150497,
     "user": {
      "displayName": "Satoshi Ido",
      "userId": "17211183582370417193"
     },
     "user_tz": 360
    },
    "id": "R4Fv19QhXVPC",
    "outputId": "c49864b4-764b-4bde-f2cd-9fba51462928"
   },
   "outputs": [],
   "source": [
    "# Main block to place and monitor a single 0DTE trade\n",
    "if __name__ == '__main__':\n",
    "    try:\n",
    "        trade_0DTE_options(underlying_symbol, risk_free_rate, OI_THRESHOLD, SHORT_PUT_DELTA_RANGE, LONG_PUT_DELTA_RANGE, MIN_CREDIT_PERCENTAGE, DELTA_STOP_LOSS_THRES, TARGET_STOP_LOSS_PERCENTAGE) # Enter the trade once and monitor it until exit\n",
    "    except Exception as e:\n",
    "        print(f\"Error: {e}\")"
   ]
  }
 ],
 "metadata": {
  "colab": {
   "provenance": [
    {
     "file_id": "1Xk12YZBNU6Y1pEfxbxEGgVdinlkjsPBe",
     "timestamp": 1734021729744
    },
    {
     "file_id": "1VqZMymfjsWNRRlxntzvpEZNheNNtfR4Q",
     "timestamp": 1733605780238
    }
   ]
  },
  "kernelspec": {
   "display_name": "python310",
   "language": "python",
   "name": "python3"
  },
  "language_info": {
   "codemirror_mode": {
    "name": "ipython",
    "version": 3
   },
   "file_extension": ".py",
   "mimetype": "text/x-python",
   "name": "python",
   "nbconvert_exporter": "python",
   "pygments_lexer": "ipython3",
   "version": "3.10.13"
  }
 },
 "nbformat": 4,
 "nbformat_minor": 0
}
