{
 "cells": [
  {
   "cell_type": "markdown",
   "metadata": {},
   "source": [
    "# Alpaca-py crypto trading basic\n",
    "\n",
    "Notice: This notebook is moved [to crypto-trading-basic.ipynb under crypto directory](https://github.com/alpacahq/alpaca-py/blob/master/examples/crypto/crypto-trading-basic.ipynb)\n",
    "\n",
    "Please update your bookmark/link to the new location. This redirect page will be removed after 2026-03-01.\n"
   ]
  }
 ],
 "metadata": {
  "kernelspec": {
   "display_name": ".venv",
   "language": "python",
   "name": "python3"
  },
  "language_info": {
   "codemirror_mode": {
    "name": "ipython",
    "version": 3
   },
   "file_extension": ".py",
   "mimetype": "text/x-python",
   "name": "python",
   "nbconvert_exporter": "python",
   "pygments_lexer": "ipython3",
   "version": "3.12.2"
  }
 },
 "nbformat": 4,
 "nbformat_minor": 2
}
